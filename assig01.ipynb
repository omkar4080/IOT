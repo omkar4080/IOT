{
 "cells": [
  {
   "cell_type": "code",
   "execution_count": 1,
   "id": "788a85ff-6b89-4122-bd75-bd3c3f618d13",
   "metadata": {},
   "outputs": [],
   "source": [
    "#1. Write a NumPy program to create an array with the values 1, 7, 13, 105    and determine the size of the memory occupied by the array.\n"
   ]
  },
  {
   "cell_type": "code",
   "execution_count": 12,
   "id": "fd361393-5a75-4043-a930-882b01c98e1d",
   "metadata": {},
   "outputs": [],
   "source": [
    "import numpy as np"
   ]
  },
  {
   "cell_type": "code",
   "execution_count": 13,
   "id": "468f4a5a-77f8-477a-9b87-12c0c3289cba",
   "metadata": {},
   "outputs": [],
   "source": [
    "def function1():\n",
    "    arr = np.array([1,7,13,105])\n",
    "    print(arr)\n",
    "    print(f\"Type = {type(arr)}\")\n",
    "    print(f\"Dtype = {arr.dtype}\")\n",
    "    print(f\"Item Size = {arr.itemsize}\")\n",
    "    print(f\"Size = {arr.size}\")\n",
    "    print(f\"NDIM = {arr.ndim}\")\n",
    "    print(f\"NBYTES = {arr.nbytes}\")"
   ]
  },
  {
   "cell_type": "code",
   "execution_count": 14,
   "id": "2e95d089-fa64-4880-8a46-fab190456a8b",
   "metadata": {},
   "outputs": [
    {
     "name": "stdout",
     "output_type": "stream",
     "text": [
      "[  1   7  13 105]\n",
      "Type = <class 'numpy.ndarray'>\n",
      "Dtype = int64\n",
      "Item Size = 8\n",
      "Size = 4\n",
      "NDIM = 1\n",
      "NBYTES = 32\n"
     ]
    }
   ],
   "source": [
    "function1()"
   ]
  },
  {
   "cell_type": "code",
   "execution_count": 15,
   "id": "6127f7cc-4eed-421f-af92-d0da6fac1cae",
   "metadata": {},
   "outputs": [],
   "source": [
    "#2. Write a NumPy program to create an element-wise comparison (greater,    greater_equal, less and less_equal) of two given arrays.\n"
   ]
  },
  {
   "cell_type": "code",
   "execution_count": 16,
   "id": "95d22aa0-1632-4944-bcf0-e146d7939c7b",
   "metadata": {},
   "outputs": [],
   "source": [
    "def function2():\n",
    "    a_arr = np.array([10,20,30,40,50,60])\n",
    "    b_arr = np.array([11,22,33,40,55,66])\n",
    "    for i in range(0,5,1):\n",
    "        if(a_arr[i]>b_arr[i]):\n",
    "            print(f\"{a_arr[i]} is greater than{b_arr[i]}\")\n",
    "        elif(a_arr[i]>=b_arr[i]):\n",
    "            print(f\"{a_arr[i]} is greater than{b_arr[i]} \")\n",
    "        elif(a_arr[i]<b_arr[i]):\n",
    "            print(f\"{a_arr[i]} is less than{b_arr[i]}\")"
   ]
  },
  {
   "cell_type": "code",
   "execution_count": 17,
   "id": "2b57f638-b00d-450a-9530-2e5b9cfd9d08",
   "metadata": {},
   "outputs": [
    {
     "name": "stdout",
     "output_type": "stream",
     "text": [
      "10 is less than11\n",
      "20 is less than22\n",
      "30 is less than33\n",
      "40 is greater than40 \n",
      "50 is less than55\n"
     ]
    }
   ],
   "source": [
    "function2()"
   ]
  },
  {
   "cell_type": "code",
   "execution_count": 18,
   "id": "80b75854-3c6e-4250-be88-082aa10e0cc2",
   "metadata": {},
   "outputs": [],
   "source": [
    "# Write a NumPy program to create an array of 10 zeros, 10 ones, 10    fives, 10 tens, 10 twentys and 10 fiftys."
   ]
  },
  {
   "cell_type": "code",
   "execution_count": 19,
   "id": "0d3725a1-22b3-4a0d-93ce-80941645a6ce",
   "metadata": {},
   "outputs": [],
   "source": [
    "def function3():\n",
    "    arr1 = np.zeros(10)\n",
    "    print(arr1)\n",
    "    arr2 = np.ones(10)\n",
    "    print(arr2)\n",
    "    print(arr2*5)\n",
    "    print(arr2*20)\n",
    "    print(arr2*15)\n",
    "\n",
    "    "
   ]
  },
  {
   "cell_type": "code",
   "execution_count": 20,
   "id": "993f7f62-4fa0-4b66-84b3-9d15e3469e84",
   "metadata": {},
   "outputs": [
    {
     "name": "stdout",
     "output_type": "stream",
     "text": [
      "[0. 0. 0. 0. 0. 0. 0. 0. 0. 0.]\n",
      "[1. 1. 1. 1. 1. 1. 1. 1. 1. 1.]\n",
      "[5. 5. 5. 5. 5. 5. 5. 5. 5. 5.]\n",
      "[20. 20. 20. 20. 20. 20. 20. 20. 20. 20.]\n",
      "[15. 15. 15. 15. 15. 15. 15. 15. 15. 15.]\n"
     ]
    }
   ],
   "source": [
    "function3()"
   ]
  },
  {
   "cell_type": "code",
   "execution_count": 21,
   "id": "28d46205-3866-45e5-acd0-c8b2e3e05ea5",
   "metadata": {},
   "outputs": [],
   "source": [
    "#Write a NumPy program to create an array of integers from 30 to 70.\n"
   ]
  },
  {
   "cell_type": "code",
   "execution_count": 22,
   "id": "2d6abe8d-6a08-40eb-b776-8d67ddc0e6dd",
   "metadata": {},
   "outputs": [],
   "source": [
    "def function4():\n",
    "    arr3 = np.arange(30,70)\n",
    "    print(arr3)"
   ]
  },
  {
   "cell_type": "code",
   "execution_count": 23,
   "id": "6a0828c9-c3de-4bed-a827-930dcf9b6922",
   "metadata": {},
   "outputs": [
    {
     "name": "stdout",
     "output_type": "stream",
     "text": [
      "[30 31 32 33 34 35 36 37 38 39 40 41 42 43 44 45 46 47 48 49 50 51 52 53\n",
      " 54 55 56 57 58 59 60 61 62 63 64 65 66 67 68 69]\n"
     ]
    }
   ],
   "source": [
    "function4()"
   ]
  },
  {
   "cell_type": "code",
   "execution_count": 24,
   "id": "b3fbe8af-a591-4dcc-b145-fe45baabbfdc",
   "metadata": {},
   "outputs": [],
   "source": [
    "#Write a NumPy program to create an array of integers from 50 to 95.\n"
   ]
  },
  {
   "cell_type": "code",
   "execution_count": 25,
   "id": "4a47c572-6497-46ee-b355-1ba99f5f762f",
   "metadata": {},
   "outputs": [],
   "source": [
    "def function5():\n",
    "    arr4 = np.arange(50,95)\n",
    "    print(arr4)"
   ]
  },
  {
   "cell_type": "code",
   "execution_count": 26,
   "id": "742acd42-5b3e-44a2-b6d7-406bf20b58b7",
   "metadata": {},
   "outputs": [
    {
     "name": "stdout",
     "output_type": "stream",
     "text": [
      "[50 51 52 53 54 55 56 57 58 59 60 61 62 63 64 65 66 67 68 69 70 71 72 73\n",
      " 74 75 76 77 78 79 80 81 82 83 84 85 86 87 88 89 90 91 92 93 94]\n"
     ]
    }
   ],
   "source": [
    "function5()"
   ]
  },
  {
   "cell_type": "code",
   "execution_count": 27,
   "id": "9b45ccc9-30ba-4014-b8ff-e483ba62ee60",
   "metadata": {},
   "outputs": [],
   "source": [
    "#Write a NumPy program to create an array of all even integers from 20 to 80."
   ]
  },
  {
   "cell_type": "code",
   "execution_count": 28,
   "id": "a3c7b4df-fb50-4c35-91bd-95f4ffc63b51",
   "metadata": {},
   "outputs": [],
   "source": [
    "def function6():\n",
    "    arr5 = np.arange(20,80,2)\n",
    "    print(arr5)"
   ]
  },
  {
   "cell_type": "code",
   "execution_count": 29,
   "id": "3efd7c6b-7529-4f35-9243-ec112f25fa94",
   "metadata": {},
   "outputs": [
    {
     "name": "stdout",
     "output_type": "stream",
     "text": [
      "[20 22 24 26 28 30 32 34 36 38 40 42 44 46 48 50 52 54 56 58 60 62 64 66\n",
      " 68 70 72 74 76 78]\n"
     ]
    }
   ],
   "source": [
    "function6()"
   ]
  },
  {
   "cell_type": "code",
   "execution_count": 30,
   "id": "b3c86609-a2e9-4d3d-8ce6-38f615707454",
   "metadata": {},
   "outputs": [],
   "source": [
    "#Write a NumPy program to create an array of all odd integers from 20 to 80."
   ]
  },
  {
   "cell_type": "code",
   "execution_count": 31,
   "id": "1591da2c-ebdc-458c-978a-3fd6000ae212",
   "metadata": {},
   "outputs": [],
   "source": [
    "def function7():\n",
    "    arr6 = np.arange(21,80,2)\n",
    "    print(arr6)"
   ]
  },
  {
   "cell_type": "code",
   "execution_count": 32,
   "id": "65c48430-1b42-49fe-ab07-d65b874921d3",
   "metadata": {},
   "outputs": [
    {
     "name": "stdout",
     "output_type": "stream",
     "text": [
      "[21 23 25 27 29 31 33 35 37 39 41 43 45 47 49 51 53 55 57 59 61 63 65 67\n",
      " 69 71 73 75 77 79]\n"
     ]
    }
   ],
   "source": [
    "function7()"
   ]
  },
  {
   "cell_type": "code",
   "execution_count": 33,
   "id": "5703d895-ecde-4ee2-82f9-93c875d77f31",
   "metadata": {},
   "outputs": [],
   "source": [
    "#Write a NumPy program to generate an array of 15 random numbers from 10    to 40."
   ]
  },
  {
   "cell_type": "code",
   "execution_count": 34,
   "id": "9cf0a5ec-b5bf-4eaa-b613-15cd76f45d12",
   "metadata": {},
   "outputs": [],
   "source": [
    "def function8():\n",
    "    n1 = np.random.randint(10,40,15)\n",
    "    print(n1)"
   ]
  },
  {
   "cell_type": "code",
   "execution_count": 35,
   "id": "8c94c66b-32d9-40a1-81fa-fd4c34a1c8a3",
   "metadata": {},
   "outputs": [
    {
     "name": "stdout",
     "output_type": "stream",
     "text": [
      "[16 33 31 15 16 21 14 12 11 36 28 32 14 19 34]\n"
     ]
    }
   ],
   "source": [
    "function8()"
   ]
  },
  {
   "cell_type": "code",
   "execution_count": 36,
   "id": "9b8ca5f3-85dc-421a-8c6b-aaa9b45d4568",
   "metadata": {},
   "outputs": [],
   "source": [
    "# Write a NumPy program to generate an array of 10 random numbers from 30    to 50.\n"
   ]
  },
  {
   "cell_type": "code",
   "execution_count": 37,
   "id": "b64fc053-2dec-4e6c-bd67-17bb179c53af",
   "metadata": {},
   "outputs": [],
   "source": [
    "def function9():\n",
    "    n2 = np.random.randint(30,50,10)\n",
    "    print(n2)"
   ]
  },
  {
   "cell_type": "code",
   "execution_count": 38,
   "id": "137e42ad-dd10-41ba-862e-f9a2deae09f5",
   "metadata": {},
   "outputs": [
    {
     "name": "stdout",
     "output_type": "stream",
     "text": [
      "[47 32 36 46 31 40 44 32 30 42]\n"
     ]
    }
   ],
   "source": [
    "function9()"
   ]
  },
  {
   "cell_type": "code",
   "execution_count": 39,
   "id": "3289047d-d524-41ba-ba40-ad9d2e55cce9",
   "metadata": {},
   "outputs": [],
   "source": [
    "#Write a NumPy program to generate an array of 20 random numbers from 50    to 90"
   ]
  },
  {
   "cell_type": "code",
   "execution_count": 40,
   "id": "9bbd1d0e-c25b-4bdf-8efa-1f6eeaa438da",
   "metadata": {},
   "outputs": [],
   "source": [
    "def function10():\n",
    "    n3 = np.random.randint(50,90,20)\n",
    "    print(n3)"
   ]
  },
  {
   "cell_type": "code",
   "execution_count": 41,
   "id": "a5d206ac-d842-4ed2-838a-c5c3382d768a",
   "metadata": {},
   "outputs": [
    {
     "name": "stdout",
     "output_type": "stream",
     "text": [
      "[74 56 83 75 86 59 50 50 78 59 83 77 84 76 62 85 83 83 71 65]\n"
     ]
    }
   ],
   "source": [
    "function10()"
   ]
  },
  {
   "cell_type": "code",
   "execution_count": 42,
   "id": "9fe4704d-bd89-4d85-a0cd-2dda2b0c5222",
   "metadata": {},
   "outputs": [],
   "source": [
    "#Create any two arrays & perform various mathematical operations.\n",
    " #   i.e. Addition, Substraction, Multiplication, Divide.\n"
   ]
  },
  {
   "cell_type": "code",
   "execution_count": 43,
   "id": "5e10ab36-fc59-4a0d-9a94-2607f7398606",
   "metadata": {},
   "outputs": [],
   "source": [
    "def function11():\n",
    "    n4 = np.array([20,30,40,60])\n",
    "    n5 = np.array([2,3,4,6])\n",
    "    print(f\"N4 = {n4}\")\n",
    "    print(f\"N5 = {n5}\")\n",
    "    print(f\"adition = {n4+n5}\")\n",
    "    print(f\"sub = {n4-n5}\")\n",
    "    print(f\"mul = {n4*n5}\")\n",
    "    print(f\"div = {n4/n5}\")"
   ]
  },
  {
   "cell_type": "code",
   "execution_count": 44,
   "id": "5cbcc486-c9d2-4617-a4df-584290910a1b",
   "metadata": {},
   "outputs": [
    {
     "name": "stdout",
     "output_type": "stream",
     "text": [
      "N4 = [20 30 40 60]\n",
      "N5 = [2 3 4 6]\n",
      "adition = [22 33 44 66]\n",
      "sub = [18 27 36 54]\n",
      "mul = [ 40  90 160 360]\n",
      "div = [10. 10. 10. 10.]\n"
     ]
    }
   ],
   "source": [
    "function11()"
   ]
  },
  {
   "cell_type": "code",
   "execution_count": 45,
   "id": "13eb24b5-5438-4a5d-9a1b-1990acbdb9a6",
   "metadata": {},
   "outputs": [],
   "source": [
    "#Write a NumPy program to create a 3x4 matrix filled with values from 10     to 21.\n"
   ]
  },
  {
   "cell_type": "code",
   "execution_count": 46,
   "id": "49bafab3-774c-444e-b3b0-4ea6d473bbd5",
   "metadata": {},
   "outputs": [],
   "source": [
    "def function12():\n",
    "    n6 = np.arange(10,22).reshape(3, 4)\n",
    "    print(n6)"
   ]
  },
  {
   "cell_type": "code",
   "execution_count": 47,
   "id": "96751114-81be-41ca-857a-bf7532e4ae5d",
   "metadata": {},
   "outputs": [
    {
     "name": "stdout",
     "output_type": "stream",
     "text": [
      "[[10 11 12 13]\n",
      " [14 15 16 17]\n",
      " [18 19 20 21]]\n"
     ]
    }
   ],
   "source": [
    "function12()"
   ]
  },
  {
   "cell_type": "code",
   "execution_count": 48,
   "id": "3c8eba68-8cc5-496d-afa5-9f9e8f265be6",
   "metadata": {},
   "outputs": [],
   "source": [
    "#Q22. Write a NumPy program to convert an data type into to a floating type"
   ]
  },
  {
   "cell_type": "code",
   "execution_count": 49,
   "id": "71ea26ad-7320-4d4d-bf46-3dec83055167",
   "metadata": {},
   "outputs": [],
   "source": [
    "def printProperties(arr):\n",
    "    print(arr)\n",
    "    print(f\"Type = {type(arr)}\")\n",
    "    print(f\"Dtype = {arr.dtype}\")\n",
    "    print(f\"Item Size = {arr.itemsize}\")\n",
    "    print(f\"Size = {arr.size}\")\n",
    "    print(f\"NDIM = {arr.ndim}\")\n",
    "    print(f\"NBYTES = {arr.nbytes}\")"
   ]
  },
  {
   "cell_type": "code",
   "execution_count": 50,
   "id": "d1944cdb-3fd3-4a9d-b364-c0e36aecc840",
   "metadata": {},
   "outputs": [
    {
     "name": "stdout",
     "output_type": "stream",
     "text": [
      "[  1.   7.  13. 105.]\n",
      "Type = <class 'numpy.ndarray'>\n",
      "Dtype = float32\n",
      "Item Size = 4\n",
      "Size = 4\n",
      "NDIM = 1\n",
      "NBYTES = 16\n"
     ]
    }
   ],
   "source": [
    "arr = np.array([1,7,13,105],dtype=np.float32)\n",
    "printProperties(arr)\n"
   ]
  },
  {
   "cell_type": "code",
   "execution_count": 51,
   "id": "cc97bc7b-1674-4862-ad2d-0239e1982e5d",
   "metadata": {},
   "outputs": [],
   "source": [
    "#Q19. Write a NumPy program to create a 3x3 matrix with values ranging from 2     to 10."
   ]
  },
  {
   "cell_type": "code",
   "execution_count": 52,
   "id": "bf68dbc9-9abe-4878-b092-31b8a6f8dfd2",
   "metadata": {},
   "outputs": [],
   "source": [
    "def function13():\n",
    "    n7 = np.arange(2,11).reshape(3, 3)\n",
    "    print(n7)"
   ]
  },
  {
   "cell_type": "code",
   "execution_count": 53,
   "id": "57a369c2-538e-4b82-8aa0-2120a3240946",
   "metadata": {},
   "outputs": [
    {
     "name": "stdout",
     "output_type": "stream",
     "text": [
      "[[ 2  3  4]\n",
      " [ 5  6  7]\n",
      " [ 8  9 10]]\n"
     ]
    }
   ],
   "source": [
    "function13()"
   ]
  },
  {
   "cell_type": "code",
   "execution_count": 54,
   "id": "53891e47-051e-46aa-b82a-086b5be3f0c4",
   "metadata": {},
   "outputs": [],
   "source": [
    "#13. Write a NumPy program to create a 3x3 identity matrix, i.e. the diagonal     elements are 1, the rest are 0."
   ]
  },
  {
   "cell_type": "code",
   "execution_count": 55,
   "id": "3adc9c86-85c3-407b-a853-c9863b577bb3",
   "metadata": {},
   "outputs": [],
   "source": [
    "def function14():\n",
    "    n8 = np.diag([1,1,1])\n",
    "    print(n8)"
   ]
  },
  {
   "cell_type": "code",
   "execution_count": 56,
   "id": "a0bc5076-02e3-453b-9f50-86c5c5230586",
   "metadata": {},
   "outputs": [
    {
     "name": "stdout",
     "output_type": "stream",
     "text": [
      "[[1 0 0]\n",
      " [0 1 0]\n",
      " [0 0 1]]\n"
     ]
    }
   ],
   "source": [
    "function14()"
   ]
  },
  {
   "cell_type": "code",
   "execution_count": 57,
   "id": "b1327adf-72af-45c0-8539-2922ad37b402",
   "metadata": {},
   "outputs": [],
   "source": [
    "#14. Write a NumPy program to find the number of rows and columns in a given     matrix. \n"
   ]
  },
  {
   "cell_type": "code",
   "execution_count": 58,
   "id": "e786f06c-01fa-4d29-8a7b-c230d7f4ef9f",
   "metadata": {},
   "outputs": [],
   "source": [
    "def function15():\n",
    "    n9 = np.arange(10,22).reshape(3, 4)\n",
    "    print(f\" number of rows and coloumn = {n9.shape}\")"
   ]
  },
  {
   "cell_type": "code",
   "execution_count": 59,
   "id": "25ec835a-21a5-4fb5-a6f1-989189c039a8",
   "metadata": {},
   "outputs": [
    {
     "name": "stdout",
     "output_type": "stream",
     "text": [
      " number of rows and coloumn = (3, 4)\n"
     ]
    }
   ],
   "source": [
    "function15()"
   ]
  },
  {
   "cell_type": "code",
   "execution_count": 60,
   "id": "61869554-7aa0-4fb0-b6b7-88ba18c70f7b",
   "metadata": {},
   "outputs": [],
   "source": [
    ",#Q15 Write a NumPy program to create a 5x5 zero matrix with elements on the     main diagonal equal to 1, 2, 3, 4, 5.\n"
   ]
  },
  {
   "cell_type": "code",
   "execution_count": 61,
   "id": "f063f168-a593-4083-b00c-f9adcbd2143c",
   "metadata": {},
   "outputs": [],
   "source": [
    "def function16():\n",
    "    n10 = np.diag([1,2,3,4,5])\n",
    "    print(n10)"
   ]
  },
  {
   "cell_type": "code",
   "execution_count": 62,
   "id": "338d3c31-46b1-4b46-8571-8526dbbdc1d7",
   "metadata": {},
   "outputs": [
    {
     "name": "stdout",
     "output_type": "stream",
     "text": [
      "[[1 0 0 0 0]\n",
      " [0 2 0 0 0]\n",
      " [0 0 3 0 0]\n",
      " [0 0 0 4 0]\n",
      " [0 0 0 0 5]]\n"
     ]
    }
   ],
   "source": [
    "function16()"
   ]
  },
  {
   "cell_type": "code",
   "execution_count": 63,
   "id": "4e152110-f766-4cee-ac0c-b6dfc4e31c1a",
   "metadata": {},
   "outputs": [],
   "source": [
    "def function17():\n",
    "    x = np.random.random([3,3,3])\n",
    "    print(x)"
   ]
  },
  {
   "cell_type": "code",
   "execution_count": 64,
   "id": "803bde9b-059e-4c11-8b14-ba4de61ebdff",
   "metadata": {},
   "outputs": [
    {
     "name": "stdout",
     "output_type": "stream",
     "text": [
      "[[[0.33664455 0.06962301 0.43322238]\n",
      "  [0.09541368 0.71309233 0.4410983 ]\n",
      "  [0.67164306 0.97921553 0.64562936]]\n",
      "\n",
      " [[0.09563613 0.71967083 0.49079956]\n",
      "  [0.64868746 0.47631968 0.85157329]\n",
      "  [0.39878215 0.81619078 0.52899585]]\n",
      "\n",
      " [[0.62300723 0.43018903 0.06235938]\n",
      "  [0.32927568 0.82518366 0.84894632]\n",
      "  [0.3185329  0.03002624 0.86989376]]]\n"
     ]
    }
   ],
   "source": [
    "function17()"
   ]
  },
  {
   "cell_type": "code",
   "execution_count": 65,
   "id": "51d17152-c4d4-41d8-9a8f-74f254ad6f23",
   "metadata": {},
   "outputs": [],
   "source": [
    "#Q17. Write a NumPy program to create a 2x3x4 array filled with arbitrary     values.\n"
   ]
  },
  {
   "cell_type": "code",
   "execution_count": 66,
   "id": "436aeeae-4778-4b92-aa84-967328fcaab4",
   "metadata": {},
   "outputs": [],
   "source": [
    "def function18():\n",
    "    x = np.random.random([2,3,4])\n",
    "    print(x)"
   ]
  },
  {
   "cell_type": "code",
   "execution_count": 67,
   "id": "a981622b-5bc8-463d-b89c-26c93b5e6471",
   "metadata": {},
   "outputs": [
    {
     "name": "stdout",
     "output_type": "stream",
     "text": [
      "[[[0.04736967 0.06484381 0.88983484 0.51600609]\n",
      "  [0.98363693 0.34706674 0.83735248 0.29618581]\n",
      "  [0.49595796 0.78224153 0.34593184 0.32793204]]\n",
      "\n",
      " [[0.27836488 0.5192833  0.26466672 0.88828309]\n",
      "  [0.39235621 0.38609648 0.14536132 0.81952039]\n",
      "  [0.97585217 0.79179991 0.37048594 0.99214818]]]\n"
     ]
    }
   ],
   "source": [
    "function18()"
   ]
  },
  {
   "cell_type": "code",
   "execution_count": 68,
   "id": "2eaad0c8-9e3f-48c2-a744-b0c9ac2344d0",
   "metadata": {},
   "outputs": [],
   "source": [
    "#Q18. Write a NumPy program to convert a list of numeric values into a one-    dimensional NumPy array."
   ]
  },
  {
   "cell_type": "code",
   "execution_count": 69,
   "id": "d9bda61a-02cc-455b-9b1f-87ef526422bf",
   "metadata": {},
   "outputs": [],
   "source": [
    "def function19():\n",
    " a = [1,2,3,4,5]\n",
    " b = np.array(a)\n",
    " print(b)"
   ]
  },
  {
   "cell_type": "code",
   "execution_count": 70,
   "id": "7241b07c-5a3b-4406-a835-6dc4064c6a0e",
   "metadata": {},
   "outputs": [
    {
     "name": "stdout",
     "output_type": "stream",
     "text": [
      "[1 2 3 4 5]\n"
     ]
    }
   ],
   "source": [
    "function19()"
   ]
  },
  {
   "cell_type": "code",
   "execution_count": 71,
   "id": "dad928d6-d4f7-48d4-931a-8dac69257ad1",
   "metadata": {},
   "outputs": [],
   "source": [
    "#Q20. Write a NumPy program to create an array with values ranging from 12 to 38."
   ]
  },
  {
   "cell_type": "code",
   "execution_count": 72,
   "id": "d0b366d3-6467-4a46-818e-d9543f9658cd",
   "metadata": {},
   "outputs": [],
   "source": [
    "def function20():\n",
    "    n11= np.arange(12,38)\n",
    "    print(n11)"
   ]
  },
  {
   "cell_type": "code",
   "execution_count": 73,
   "id": "c7ce33d4-33f5-4fc8-99df-1572e6c5c506",
   "metadata": {},
   "outputs": [
    {
     "name": "stdout",
     "output_type": "stream",
     "text": [
      "[12 13 14 15 16 17 18 19 20 21 22 23 24 25 26 27 28 29 30 31 32 33 34 35\n",
      " 36 37]\n"
     ]
    }
   ],
   "source": [
    "function20()"
   ]
  },
  {
   "cell_type": "code",
   "execution_count": 74,
   "id": "a0d3ef6a-8495-49b1-a7b3-f82cf9fccf2e",
   "metadata": {},
   "outputs": [],
   "source": [
    "#Q21. Write a NumPy program to reverse an array (the first element becomes the last)."
   ]
  },
  {
   "cell_type": "code",
   "execution_count": 75,
   "id": "822bd2cd-add6-4673-82a7-3eabcf15aff7",
   "metadata": {},
   "outputs": [],
   "source": [
    "def function21():\n",
    "    x = np.arange(12, 38)\n",
    "    print(\"Original array:\")\n",
    "    print(x)\n",
    "    print(\"Reverse array:\")\n",
    "    x = x[::-1]\n",
    "    print(x) \n"
   ]
  },
  {
   "cell_type": "code",
   "execution_count": 76,
   "id": "39b36492-842d-4639-9607-c085b7f345ba",
   "metadata": {},
   "outputs": [
    {
     "name": "stdout",
     "output_type": "stream",
     "text": [
      "Original array:\n",
      "[12 13 14 15 16 17 18 19 20 21 22 23 24 25 26 27 28 29 30 31 32 33 34 35\n",
      " 36 37]\n",
      "Reverse array:\n",
      "[37 36 35 34 33 32 31 30 29 28 27 26 25 24 23 22 21 20 19 18 17 16 15 14\n",
      " 13 12]\n"
     ]
    }
   ],
   "source": [
    "function21()"
   ]
  },
  {
   "cell_type": "code",
   "execution_count": 77,
   "id": "317a43e6-f91d-4539-a926-c0d953f36634",
   "metadata": {},
   "outputs": [],
   "source": [
    "#23. Write a NumPy program to convert a list array."
   ]
  },
  {
   "cell_type": "code",
   "execution_count": 78,
   "id": "1d9fe375-fd09-403b-93c7-3f7a7f68965a",
   "metadata": {},
   "outputs": [],
   "source": [
    "def function22():\n",
    "    l1 = [1, 2, 3, 4, 5, 6, 7,]\n",
    "    print(\"List to array: \")\n",
    "    print(np.asarray(l1))\n",
    "    t1 = ([8, 4, 6], [1, 2, 3])\n",
    "    print(\"Tuple to array: \")\n",
    "    print(np.asarray(t1))"
   ]
  },
  {
   "cell_type": "code",
   "execution_count": 79,
   "id": "23e90bc2-497c-4ee0-94bb-dc8d7c3387e9",
   "metadata": {},
   "outputs": [
    {
     "name": "stdout",
     "output_type": "stream",
     "text": [
      "List to array: \n",
      "[1 2 3 4 5 6 7]\n",
      "Tuple to array: \n",
      "[[8 4 6]\n",
      " [1 2 3]]\n"
     ]
    }
   ],
   "source": [
    "function22()"
   ]
  },
  {
   "cell_type": "code",
   "execution_count": 80,
   "id": "3113db2a-ea6a-4f8c-b90f-b762d922e072",
   "metadata": {},
   "outputs": [],
   "source": [
    "#Q24. Write a NumPy program to get the element-wise remainder of an array of division.\n"
   ]
  },
  {
   "cell_type": "code",
   "execution_count": 81,
   "id": "1a7b4609-67b3-4c3b-a0ca-1e45ce31b637",
   "metadata": {},
   "outputs": [],
   "source": [
    "def function23():\n",
    "    x = np.arange(7)\n",
    "    print(\"Original array:\")\n",
    "    print(x)\n",
    "    print(\"Element-wise remainder of division:\")\n",
    "    print(np.remainder(x, 5)) "
   ]
  },
  {
   "cell_type": "code",
   "execution_count": 82,
   "id": "6446b111-5344-412f-a1c4-8718eeb4cc20",
   "metadata": {},
   "outputs": [
    {
     "name": "stdout",
     "output_type": "stream",
     "text": [
      "Original array:\n",
      "[0 1 2 3 4 5 6]\n",
      "Element-wise remainder of division:\n",
      "[0 1 2 3 4 0 1]\n"
     ]
    }
   ],
   "source": [
    "function23()"
   ]
  },
  {
   "cell_type": "code",
   "execution_count": 83,
   "id": "53cffcdc-24bc-45d1-b1af-cbee6ce8f5a8",
   "metadata": {},
   "outputs": [],
   "source": [
    "#Q25. Write a NumPy program to get the element-wise remainder of an array of numbers from 20 to 50 which are divisible by 3."
   ]
  },
  {
   "cell_type": "code",
   "execution_count": 84,
   "id": "6d0d7c63-182f-4e03-815e-04e852739268",
   "metadata": {},
   "outputs": [],
   "source": [
    "def function23():\n",
    "    x = np.arange(7)\n",
    "    print(\"Original array:\")\n",
    "    print(x)\n",
    "    print(\"Element-wise remainder of division:\")\n",
    "    print(np.remainder(x, 5)) "
   ]
  },
  {
   "cell_type": "code",
   "execution_count": null,
   "id": "319d5d29-cc58-44bd-b9b6-39a6c8bad3d1",
   "metadata": {},
   "outputs": [],
   "source": []
  }
 ],
 "metadata": {
  "kernelspec": {
   "display_name": "Python 3 (ipykernel)",
   "language": "python",
   "name": "python3"
  },
  "language_info": {
   "codemirror_mode": {
    "name": "ipython",
    "version": 3
   },
   "file_extension": ".py",
   "mimetype": "text/x-python",
   "name": "python",
   "nbconvert_exporter": "python",
   "pygments_lexer": "ipython3",
   "version": "3.10.12"
  }
 },
 "nbformat": 4,
 "nbformat_minor": 5
}
