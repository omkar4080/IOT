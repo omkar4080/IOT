{
 "cells": [
  {
   "cell_type": "code",
   "execution_count": 2,
   "id": "501ebc68-a9e4-4cb1-acb8-90eb3b23b801",
   "metadata": {},
   "outputs": [],
   "source": [
    "#Q1. Write a Pandas program to create and display a one-dimensional array-like object containing an array of data."
   ]
  },
  {
   "cell_type": "code",
   "execution_count": 3,
   "id": "72fab1c0-2f43-4971-bf3f-bcdca5debc68",
   "metadata": {},
   "outputs": [],
   "source": [
    "import numpy as np\n",
    "import pandas as pd\n",
    "import matplotlib.pyplot as plt\n",
    "import seaborn as sns"
   ]
  },
  {
   "cell_type": "code",
   "execution_count": 4,
   "id": "2a0cbe58-e58d-42f2-a9cf-f28afbc35965",
   "metadata": {},
   "outputs": [],
   "source": [
    "def function1():\n",
    "    ds = pd.Series([10,20,30,40,50,60])\n",
    "    print(ds)"
   ]
  },
  {
   "cell_type": "code",
   "execution_count": 5,
   "id": "ef3c54c9-1542-464e-bb73-e51da02cc80d",
   "metadata": {},
   "outputs": [
    {
     "name": "stdout",
     "output_type": "stream",
     "text": [
      "0    10\n",
      "1    20\n",
      "2    30\n",
      "3    40\n",
      "4    50\n",
      "5    60\n",
      "dtype: int64\n"
     ]
    }
   ],
   "source": [
    "function1()"
   ]
  },
  {
   "cell_type": "code",
   "execution_count": 6,
   "id": "4dbaa94f-fa75-459d-b658-da02dff5f9db",
   "metadata": {},
   "outputs": [],
   "source": [
    "#Q2. Write a Pandas program to convert a Panda module Series to Python list and it’s type."
   ]
  },
  {
   "cell_type": "code",
   "execution_count": 7,
   "id": "cc553fef-b608-4b34-9124-27b81d6828f4",
   "metadata": {},
   "outputs": [],
   "source": [
    "def function2():\n",
    "    ds = pd.Series([2, 4, 6, 8, 10])\n",
    "    print(\"Pandas Series and type\")\n",
    "    print(ds)\n",
    "    print(type(ds))\n",
    "    print(\"Convert Pandas Series to Python list\")\n",
    "    print(ds.tolist())\n",
    "    print(type(ds.tolist()))"
   ]
  },
  {
   "cell_type": "code",
   "execution_count": 8,
   "id": "1b2b7ff6-f0f7-478d-b158-fd79ad2c01e6",
   "metadata": {},
   "outputs": [
    {
     "name": "stdout",
     "output_type": "stream",
     "text": [
      "Pandas Series and type\n",
      "0     2\n",
      "1     4\n",
      "2     6\n",
      "3     8\n",
      "4    10\n",
      "dtype: int64\n",
      "<class 'pandas.core.series.Series'>\n",
      "Convert Pandas Series to Python list\n",
      "[2, 4, 6, 8, 10]\n",
      "<class 'list'>\n"
     ]
    }
   ],
   "source": [
    "function2()"
   ]
  },
  {
   "cell_type": "code",
   "execution_count": 9,
   "id": "ada6d973-824a-4c75-ac12-f92e4d8c83e1",
   "metadata": {},
   "outputs": [],
   "source": [
    "#Q 3. Write a Pandas program to add, subtract, multiple and divide two Pandas Series.\n",
    " #  Sample Series: [2, 4, 6, 8, 10], [1, 3, 5, 7, 9]"
   ]
  },
  {
   "cell_type": "code",
   "execution_count": 10,
   "id": "d3f2f6fa-367b-47bd-b4b6-ab916bc814ee",
   "metadata": {},
   "outputs": [],
   "source": [
    "def function3():\n",
    "    n1 = pd.array([2, 4, 6, 8, 10])\n",
    "    n2 = pd.array([1, 3, 5, 7, 9])\n",
    "    print(f\"N1 = {n1}\")\n",
    "    print(f\"N2 = {n2}\")\n",
    "    print(\"-\"*80)\n",
    "    print(n1+n2)\n",
    "    print(\"-\"*80)\n",
    "    print(n1-n2)\n",
    "    print(\"-\"*80)\n",
    "    print(n1*n2)\n",
    "    print(\"-\"*80)\n",
    "    print(n1/n2)"
   ]
  },
  {
   "cell_type": "code",
   "execution_count": 11,
   "id": "8656593e-e06c-48cf-9cad-00fdc8e3bb1e",
   "metadata": {},
   "outputs": [
    {
     "name": "stdout",
     "output_type": "stream",
     "text": [
      "N1 = <IntegerArray>\n",
      "[2, 4, 6, 8, 10]\n",
      "Length: 5, dtype: Int64\n",
      "N2 = <IntegerArray>\n",
      "[1, 3, 5, 7, 9]\n",
      "Length: 5, dtype: Int64\n",
      "--------------------------------------------------------------------------------\n",
      "<IntegerArray>\n",
      "[3, 7, 11, 15, 19]\n",
      "Length: 5, dtype: Int64\n",
      "--------------------------------------------------------------------------------\n",
      "<IntegerArray>\n",
      "[1, 1, 1, 1, 1]\n",
      "Length: 5, dtype: Int64\n",
      "--------------------------------------------------------------------------------\n",
      "<IntegerArray>\n",
      "[2, 12, 30, 56, 90]\n",
      "Length: 5, dtype: Int64\n",
      "--------------------------------------------------------------------------------\n",
      "<FloatingArray>\n",
      "[2.0, 1.3333333333333333, 1.2, 1.1428571428571428, 1.1111111111111112]\n",
      "Length: 5, dtype: Float64\n"
     ]
    }
   ],
   "source": [
    "function3()"
   ]
  },
  {
   "cell_type": "code",
   "execution_count": 12,
   "id": "f94028c6-9ea9-4137-a105-a72293825d6c",
   "metadata": {},
   "outputs": [],
   "source": [
    "#Q4. Write a Pandas program to convert a dictionary to a Pandas series."
   ]
  },
  {
   "cell_type": "code",
   "execution_count": 13,
   "id": "cb18a01d-3fc7-4c96-9485-7d773ea9cb5a",
   "metadata": {},
   "outputs": [],
   "source": [
    "def function4():\n",
    "    r1 = {'a':15, 'b':25, 'c':35, 'd':45}\n",
    "    print(\"origenal dictionary\")\n",
    "    print(r1)\n",
    "    New_Series = pd.Series(r1)\n",
    "    print(\"converted series\")\n",
    "    print(New_Series)"
   ]
  },
  {
   "cell_type": "code",
   "execution_count": 14,
   "id": "020c5460-ba43-4ce3-885e-1a90bfcf7e15",
   "metadata": {},
   "outputs": [
    {
     "name": "stdout",
     "output_type": "stream",
     "text": [
      "origenal dictionary\n",
      "{'a': 15, 'b': 25, 'c': 35, 'd': 45}\n",
      "converted series\n",
      "a    15\n",
      "b    25\n",
      "c    35\n",
      "d    45\n",
      "dtype: int64\n"
     ]
    }
   ],
   "source": [
    "function4()"
   ]
  },
  {
   "cell_type": "code",
   "execution_count": 15,
   "id": "b8dcf6b0-6269-47f1-9a5e-0be7d6049acc",
   "metadata": {},
   "outputs": [],
   "source": [
    "#Q5. Write a Pandas program to convert a NumPy array to a Pandas series."
   ]
  },
  {
   "cell_type": "code",
   "execution_count": 16,
   "id": "899fdf1d-5da9-47f1-b246-7b7f994c35a7",
   "metadata": {},
   "outputs": [],
   "source": [
    "def function5():\n",
    "    n3 = np.array([11,22,33,44,55,66])\n",
    "    print(\"Numpy array\")\n",
    "    print(n3)\n",
    "    New_Series = pd.Series(n3)\n",
    "    print(\"Pandas array\")\n",
    "    print(New_Series)"
   ]
  },
  {
   "cell_type": "code",
   "execution_count": 17,
   "id": "074b4a54-60b7-4c1b-93e9-7cc8d49a5311",
   "metadata": {},
   "outputs": [
    {
     "name": "stdout",
     "output_type": "stream",
     "text": [
      "Numpy array\n",
      "[11 22 33 44 55 66]\n",
      "Pandas array\n",
      "0    11\n",
      "1    22\n",
      "2    33\n",
      "3    44\n",
      "4    55\n",
      "5    66\n",
      "dtype: int64\n"
     ]
    }
   ],
   "source": [
    "function5()"
   ]
  },
  {
   "cell_type": "code",
   "execution_count": 18,
   "id": "f462d15a-46c9-45a1-9bf8-df14e074203f",
   "metadata": {},
   "outputs": [],
   "source": [
    "#Q6. Write a Pandas program to change the data type of given a column or a Series."
   ]
  },
  {
   "cell_type": "code",
   "execution_count": 19,
   "id": "59e010bb-13a8-487b-a61a-6f9ca48c6ab2",
   "metadata": {},
   "outputs": [],
   "source": [
    "def function6():\n",
    "    s1 = pd.Series(['10', '20', 'sunbeam', '70.80', '500'])\n",
    "    print(\"origenal series\")\n",
    "    print(s1)\n",
    "    print(\"Change the said data type to numeric:\")\n",
    "    s2 = pd.to_numeric(s1, errors='coerce')"
   ]
  },
  {
   "cell_type": "code",
   "execution_count": 20,
   "id": "b3766743-4fdf-442d-a634-f6043b599d8e",
   "metadata": {},
   "outputs": [
    {
     "name": "stdout",
     "output_type": "stream",
     "text": [
      "origenal series\n",
      "0         10\n",
      "1         20\n",
      "2    sunbeam\n",
      "3      70.80\n",
      "4        500\n",
      "dtype: object\n",
      "Change the said data type to numeric:\n"
     ]
    }
   ],
   "source": [
    "function6()"
   ]
  },
  {
   "cell_type": "code",
   "execution_count": 21,
   "id": "570c637d-def1-4925-9660-d5a4302f9c3b",
   "metadata": {},
   "outputs": [],
   "source": [
    "#Q7. Write a Pandas program to convert a given Series to an array."
   ]
  },
  {
   "cell_type": "code",
   "execution_count": 22,
   "id": "a8dd33bb-b56f-4495-98bc-20092cd025c4",
   "metadata": {},
   "outputs": [],
   "source": [
    "def function7():\n",
    "    s3 = ([10, 20, 30, 40, 50,])\n",
    "    print(\"Origenal data series\")\n",
    "    print(s3)\n",
    "    print(\"Series to array\")\n",
    "    a = np.array(s3)\n",
    "    print(a)\n",
    "    print(type(a))"
   ]
  },
  {
   "cell_type": "code",
   "execution_count": 23,
   "id": "532d6cb7-4e48-463f-9d17-626b2527d24c",
   "metadata": {},
   "outputs": [
    {
     "name": "stdout",
     "output_type": "stream",
     "text": [
      "Origenal data series\n",
      "[10, 20, 30, 40, 50]\n",
      "Series to array\n",
      "[10 20 30 40 50]\n",
      "<class 'numpy.ndarray'>\n"
     ]
    }
   ],
   "source": [
    "function7()"
   ]
  },
  {
   "cell_type": "code",
   "execution_count": 24,
   "id": "9a55e90e-34d2-4f4d-a689-4ff8cabc060e",
   "metadata": {},
   "outputs": [],
   "source": [
    "#Q8. Write a Pandas program to create a dataframe from a dictionary and display it."
   ]
  },
  {
   "cell_type": "code",
   "execution_count": 25,
   "id": "56b2739b-833c-4207-8341-2fe9fa14576f",
   "metadata": {},
   "outputs": [],
   "source": [
    "def function8():\n",
    "    df = pd.read_csv('./50_Startups.csv')"
   ]
  },
  {
   "cell_type": "code",
   "execution_count": 26,
   "id": "bbee8934-ed33-4d28-b9da-b2641ccbf81f",
   "metadata": {},
   "outputs": [],
   "source": [
    "function8()"
   ]
  },
  {
   "cell_type": "code",
   "execution_count": 27,
   "id": "fda5bd91-5625-4a64-beea-58abe63a917b",
   "metadata": {},
   "outputs": [],
   "source": [
    "df = pd.read_csv('./50_Startups.csv')"
   ]
  },
  {
   "cell_type": "code",
   "execution_count": 28,
   "id": "598330e4-202b-468b-80c8-b3d1c1b03867",
   "metadata": {},
   "outputs": [
    {
     "name": "stdout",
     "output_type": "stream",
     "text": [
      "          RnD  Administration  Marketing       State     Profit\n",
      "0   165349.20       136897.80  471784.10    New York  192261.83\n",
      "1   162597.70       151377.59  443898.53  California  191792.06\n",
      "2   153441.51       101145.55  407934.54     Florida  191050.39\n",
      "3   144372.41       118671.85  383199.62    New York  182901.99\n",
      "4   142107.34        91391.77  366168.42     Florida  166187.94\n",
      "5   131876.90        99814.71  362861.36    New York  156991.12\n",
      "6   134615.46       147198.87  127716.82  California  156122.51\n",
      "7   130298.13       145530.06  323876.68     Florida  155752.60\n",
      "8   120542.52       148718.95  311613.29    New York  152211.77\n",
      "9   123334.88       108679.17  304981.62  California  149759.96\n",
      "10  101913.08       110594.11  229160.95     Florida  146121.95\n",
      "11  100671.96        91790.61  249744.55  California  144259.40\n",
      "12   93863.75       127320.38  249839.44     Florida  141585.52\n",
      "13   91992.39       135495.07  252664.93  California  134307.35\n",
      "14  119943.24       156547.42  256512.92     Florida  132602.65\n",
      "15  114523.61       122616.84  261776.23    New York  129917.04\n",
      "16   78013.11       121597.55  264346.06  California  126992.93\n",
      "17   94657.16       145077.58  282574.31    New York  125370.37\n",
      "18   91749.16       114175.79  294919.57     Florida  124266.90\n",
      "19   86419.70       153514.11       0.00    New York  122776.86\n",
      "20   76253.86       113867.30  298664.47  California  118474.03\n",
      "21   78389.47       153773.43  299737.29    New York  111313.02\n",
      "22   73994.56       122782.75  303319.26     Florida  110352.25\n",
      "23   67532.53       105751.03  304768.73     Florida  108733.99\n",
      "24   77044.01        99281.34  140574.81    New York  108552.04\n",
      "25   64664.71       139553.16  137962.62  California  107404.34\n",
      "26   75328.87       144135.98  134050.07     Florida  105733.54\n",
      "27   72107.60       127864.55  353183.81    New York  105008.31\n",
      "28   66051.52       182645.56  118148.20     Florida  103282.38\n",
      "29   65605.48       153032.06  107138.38    New York  101004.64\n",
      "30   61994.48       115641.28   91131.24     Florida   99937.59\n",
      "31   61136.38       152701.92   88218.23    New York   97483.56\n",
      "32   63408.86       129219.61   46085.25  California   97427.84\n",
      "33   55493.95       103057.49  214634.81     Florida   96778.92\n",
      "34   46426.07       157693.92  210797.67  California   96712.80\n",
      "35   46014.02        85047.44  205517.64    New York   96479.51\n",
      "36   28663.76       127056.21  201126.82     Florida   90708.19\n",
      "37   44069.95        51283.14  197029.42  California   89949.14\n",
      "38   20229.59        65947.93  185265.10    New York   81229.06\n",
      "39   38558.51        82982.09  174999.30  California   81005.76\n",
      "40   28754.33       118546.05  172795.67  California   78239.91\n",
      "41   27892.92        84710.77  164470.71     Florida   77798.83\n",
      "42   23640.93        96189.63  148001.11  California   71498.49\n",
      "43   15505.73       127382.30   35534.17    New York   69758.98\n",
      "44   22177.74       154806.14   28334.72  California   65200.33\n",
      "45    1000.23       124153.04    1903.93    New York   64926.08\n",
      "46    1315.46       115816.21  297114.46     Florida   49490.75\n",
      "47       0.00       135426.92       0.00  California   42559.73\n",
      "48     542.05        51743.15       0.00    New York   35673.41\n",
      "49       0.00       116983.80   45173.06  California   14681.40\n"
     ]
    }
   ],
   "source": [
    "print(df)"
   ]
  },
  {
   "cell_type": "code",
   "execution_count": 29,
   "id": "e4bb0b44-a044-4362-aa94-52a2a9db52fc",
   "metadata": {},
   "outputs": [],
   "source": [
    "#Q10. i) Read the MyRecord.csv file.\n",
    " #   ii) Create a new column Salary."
   ]
  },
  {
   "cell_type": "code",
   "execution_count": 30,
   "id": "8b2483bf-e1bc-4d23-9d34-d8b64f414140",
   "metadata": {},
   "outputs": [],
   "source": [
    "df = pd.read_csv('./Salary_Data.csv')"
   ]
  },
  {
   "cell_type": "code",
   "execution_count": 31,
   "id": "cd0dd099-8eb8-4ed7-af49-d1236e8b3aac",
   "metadata": {},
   "outputs": [
    {
     "name": "stdout",
     "output_type": "stream",
     "text": [
      "    YearsExperience  Salary\n",
      "0               1.1   39343\n",
      "1               1.3   46205\n",
      "2               1.5   37731\n",
      "3               2.0   43525\n",
      "4               2.2   39891\n",
      "5               2.9   56642\n",
      "6               3.0   60150\n",
      "7               3.2   54445\n",
      "8               3.2   64445\n",
      "9               3.7   57189\n",
      "10              3.9   63218\n",
      "11              4.0   55794\n",
      "12              4.0   56957\n",
      "13              4.1   57081\n",
      "14              4.5   61111\n",
      "15              4.9   67938\n",
      "16              5.1   66029\n",
      "17              5.3   83088\n",
      "18              5.9   81363\n",
      "19              6.0   93940\n",
      "20              6.8   91738\n",
      "21              7.1   98273\n",
      "22              7.9  101302\n",
      "23              8.2  113812\n",
      "24              8.7  109431\n",
      "25              9.0  105582\n",
      "26              9.5  116969\n",
      "27              9.6  112635\n",
      "28             10.3  122391\n",
      "29             10.5  121872\n",
      "30             11.0  140000\n",
      "31             12.0  155000\n",
      "32             13.0  156000\n"
     ]
    }
   ],
   "source": [
    "print(df)"
   ]
  },
  {
   "cell_type": "code",
   "execution_count": 32,
   "id": "d6faa7df-6aac-400c-84fc-d4f3358e1572",
   "metadata": {},
   "outputs": [],
   "source": [
    "#Q10 ii) Create a new column Salary."
   ]
  },
  {
   "cell_type": "code",
   "execution_count": 33,
   "id": "79061615-8250-4808-ba23-c4ffe88ec16f",
   "metadata": {},
   "outputs": [],
   "source": [
    "df['bonus'] = df['Salary'] * 0.15"
   ]
  },
  {
   "cell_type": "code",
   "execution_count": 34,
   "id": "1715ba3a-8857-41e2-917b-76393d3ac481",
   "metadata": {},
   "outputs": [
    {
     "name": "stdout",
     "output_type": "stream",
     "text": [
      "    YearsExperience  Salary     bonus\n",
      "0               1.1   39343   5901.45\n",
      "1               1.3   46205   6930.75\n",
      "2               1.5   37731   5659.65\n",
      "3               2.0   43525   6528.75\n",
      "4               2.2   39891   5983.65\n",
      "5               2.9   56642   8496.30\n",
      "6               3.0   60150   9022.50\n",
      "7               3.2   54445   8166.75\n",
      "8               3.2   64445   9666.75\n",
      "9               3.7   57189   8578.35\n",
      "10              3.9   63218   9482.70\n",
      "11              4.0   55794   8369.10\n",
      "12              4.0   56957   8543.55\n",
      "13              4.1   57081   8562.15\n",
      "14              4.5   61111   9166.65\n",
      "15              4.9   67938  10190.70\n",
      "16              5.1   66029   9904.35\n",
      "17              5.3   83088  12463.20\n",
      "18              5.9   81363  12204.45\n",
      "19              6.0   93940  14091.00\n",
      "20              6.8   91738  13760.70\n",
      "21              7.1   98273  14740.95\n",
      "22              7.9  101302  15195.30\n",
      "23              8.2  113812  17071.80\n",
      "24              8.7  109431  16414.65\n",
      "25              9.0  105582  15837.30\n",
      "26              9.5  116969  17545.35\n",
      "27              9.6  112635  16895.25\n",
      "28             10.3  122391  18358.65\n",
      "29             10.5  121872  18280.80\n",
      "30             11.0  140000  21000.00\n",
      "31             12.0  155000  23250.00\n",
      "32             13.0  156000  23400.00\n"
     ]
    }
   ],
   "source": [
    "print(df)"
   ]
  },
  {
   "cell_type": "code",
   "execution_count": 35,
   "id": "987b81a7-4c2b-4b44-8956-e9b4f6521a48",
   "metadata": {},
   "outputs": [],
   "source": [
    "#Q11. Refer the dataset \"Advertising.csv\" and perform following tasks.\n",
    "#i) Read the dataset \"Advertising.csv\" in data frame."
   ]
  },
  {
   "cell_type": "code",
   "execution_count": 36,
   "id": "39095310-edaf-487e-93df-d62c0d365097",
   "metadata": {},
   "outputs": [],
   "source": [
    "df = pd.read_csv('./50_Startups.csv')"
   ]
  },
  {
   "cell_type": "code",
   "execution_count": 37,
   "id": "16a403da-976c-4e00-aa33-7b348e72a766",
   "metadata": {},
   "outputs": [
    {
     "name": "stdout",
     "output_type": "stream",
     "text": [
      "          RnD  Administration  Marketing       State     Profit\n",
      "0   165349.20       136897.80  471784.10    New York  192261.83\n",
      "1   162597.70       151377.59  443898.53  California  191792.06\n",
      "2   153441.51       101145.55  407934.54     Florida  191050.39\n",
      "3   144372.41       118671.85  383199.62    New York  182901.99\n",
      "4   142107.34        91391.77  366168.42     Florida  166187.94\n",
      "5   131876.90        99814.71  362861.36    New York  156991.12\n",
      "6   134615.46       147198.87  127716.82  California  156122.51\n",
      "7   130298.13       145530.06  323876.68     Florida  155752.60\n",
      "8   120542.52       148718.95  311613.29    New York  152211.77\n",
      "9   123334.88       108679.17  304981.62  California  149759.96\n",
      "10  101913.08       110594.11  229160.95     Florida  146121.95\n",
      "11  100671.96        91790.61  249744.55  California  144259.40\n",
      "12   93863.75       127320.38  249839.44     Florida  141585.52\n",
      "13   91992.39       135495.07  252664.93  California  134307.35\n",
      "14  119943.24       156547.42  256512.92     Florida  132602.65\n",
      "15  114523.61       122616.84  261776.23    New York  129917.04\n",
      "16   78013.11       121597.55  264346.06  California  126992.93\n",
      "17   94657.16       145077.58  282574.31    New York  125370.37\n",
      "18   91749.16       114175.79  294919.57     Florida  124266.90\n",
      "19   86419.70       153514.11       0.00    New York  122776.86\n",
      "20   76253.86       113867.30  298664.47  California  118474.03\n",
      "21   78389.47       153773.43  299737.29    New York  111313.02\n",
      "22   73994.56       122782.75  303319.26     Florida  110352.25\n",
      "23   67532.53       105751.03  304768.73     Florida  108733.99\n",
      "24   77044.01        99281.34  140574.81    New York  108552.04\n",
      "25   64664.71       139553.16  137962.62  California  107404.34\n",
      "26   75328.87       144135.98  134050.07     Florida  105733.54\n",
      "27   72107.60       127864.55  353183.81    New York  105008.31\n",
      "28   66051.52       182645.56  118148.20     Florida  103282.38\n",
      "29   65605.48       153032.06  107138.38    New York  101004.64\n",
      "30   61994.48       115641.28   91131.24     Florida   99937.59\n",
      "31   61136.38       152701.92   88218.23    New York   97483.56\n",
      "32   63408.86       129219.61   46085.25  California   97427.84\n",
      "33   55493.95       103057.49  214634.81     Florida   96778.92\n",
      "34   46426.07       157693.92  210797.67  California   96712.80\n",
      "35   46014.02        85047.44  205517.64    New York   96479.51\n",
      "36   28663.76       127056.21  201126.82     Florida   90708.19\n",
      "37   44069.95        51283.14  197029.42  California   89949.14\n",
      "38   20229.59        65947.93  185265.10    New York   81229.06\n",
      "39   38558.51        82982.09  174999.30  California   81005.76\n",
      "40   28754.33       118546.05  172795.67  California   78239.91\n",
      "41   27892.92        84710.77  164470.71     Florida   77798.83\n",
      "42   23640.93        96189.63  148001.11  California   71498.49\n",
      "43   15505.73       127382.30   35534.17    New York   69758.98\n",
      "44   22177.74       154806.14   28334.72  California   65200.33\n",
      "45    1000.23       124153.04    1903.93    New York   64926.08\n",
      "46    1315.46       115816.21  297114.46     Florida   49490.75\n",
      "47       0.00       135426.92       0.00  California   42559.73\n",
      "48     542.05        51743.15       0.00    New York   35673.41\n",
      "49       0.00       116983.80   45173.06  California   14681.40\n"
     ]
    }
   ],
   "source": [
    "print(df)"
   ]
  },
  {
   "cell_type": "code",
   "execution_count": 38,
   "id": "498c68e9-fda4-4bcb-b03a-50f44b01ed27",
   "metadata": {},
   "outputs": [],
   "source": [
    "#Q11 ii) Print first five records of dataset.\n"
   ]
  },
  {
   "cell_type": "code",
   "execution_count": 39,
   "id": "68e67880-6715-45e0-a43f-02e92329e4aa",
   "metadata": {},
   "outputs": [
    {
     "data": {
      "text/html": [
       "<div>\n",
       "<style scoped>\n",
       "    .dataframe tbody tr th:only-of-type {\n",
       "        vertical-align: middle;\n",
       "    }\n",
       "\n",
       "    .dataframe tbody tr th {\n",
       "        vertical-align: top;\n",
       "    }\n",
       "\n",
       "    .dataframe thead th {\n",
       "        text-align: right;\n",
       "    }\n",
       "</style>\n",
       "<table border=\"1\" class=\"dataframe\">\n",
       "  <thead>\n",
       "    <tr style=\"text-align: right;\">\n",
       "      <th></th>\n",
       "      <th>RnD</th>\n",
       "      <th>Administration</th>\n",
       "      <th>Marketing</th>\n",
       "      <th>State</th>\n",
       "      <th>Profit</th>\n",
       "    </tr>\n",
       "  </thead>\n",
       "  <tbody>\n",
       "    <tr>\n",
       "      <th>0</th>\n",
       "      <td>165349.20</td>\n",
       "      <td>136897.80</td>\n",
       "      <td>471784.10</td>\n",
       "      <td>New York</td>\n",
       "      <td>192261.83</td>\n",
       "    </tr>\n",
       "    <tr>\n",
       "      <th>1</th>\n",
       "      <td>162597.70</td>\n",
       "      <td>151377.59</td>\n",
       "      <td>443898.53</td>\n",
       "      <td>California</td>\n",
       "      <td>191792.06</td>\n",
       "    </tr>\n",
       "    <tr>\n",
       "      <th>2</th>\n",
       "      <td>153441.51</td>\n",
       "      <td>101145.55</td>\n",
       "      <td>407934.54</td>\n",
       "      <td>Florida</td>\n",
       "      <td>191050.39</td>\n",
       "    </tr>\n",
       "    <tr>\n",
       "      <th>3</th>\n",
       "      <td>144372.41</td>\n",
       "      <td>118671.85</td>\n",
       "      <td>383199.62</td>\n",
       "      <td>New York</td>\n",
       "      <td>182901.99</td>\n",
       "    </tr>\n",
       "    <tr>\n",
       "      <th>4</th>\n",
       "      <td>142107.34</td>\n",
       "      <td>91391.77</td>\n",
       "      <td>366168.42</td>\n",
       "      <td>Florida</td>\n",
       "      <td>166187.94</td>\n",
       "    </tr>\n",
       "  </tbody>\n",
       "</table>\n",
       "</div>"
      ],
      "text/plain": [
       "         RnD  Administration  Marketing       State     Profit\n",
       "0  165349.20       136897.80  471784.10    New York  192261.83\n",
       "1  162597.70       151377.59  443898.53  California  191792.06\n",
       "2  153441.51       101145.55  407934.54     Florida  191050.39\n",
       "3  144372.41       118671.85  383199.62    New York  182901.99\n",
       "4  142107.34        91391.77  366168.42     Florida  166187.94"
      ]
     },
     "execution_count": 39,
     "metadata": {},
     "output_type": "execute_result"
    }
   ],
   "source": [
    "df.head()"
   ]
  },
  {
   "cell_type": "code",
   "execution_count": 40,
   "id": "c6edc037-c801-4382-8963-35ee7963a7a0",
   "metadata": {},
   "outputs": [],
   "source": [
    "#Q11. iii) print last five records from dataset.\n"
   ]
  },
  {
   "cell_type": "code",
   "execution_count": 41,
   "id": "5247ada9-d867-4580-adb9-7c8155286f33",
   "metadata": {},
   "outputs": [
    {
     "data": {
      "text/html": [
       "<div>\n",
       "<style scoped>\n",
       "    .dataframe tbody tr th:only-of-type {\n",
       "        vertical-align: middle;\n",
       "    }\n",
       "\n",
       "    .dataframe tbody tr th {\n",
       "        vertical-align: top;\n",
       "    }\n",
       "\n",
       "    .dataframe thead th {\n",
       "        text-align: right;\n",
       "    }\n",
       "</style>\n",
       "<table border=\"1\" class=\"dataframe\">\n",
       "  <thead>\n",
       "    <tr style=\"text-align: right;\">\n",
       "      <th></th>\n",
       "      <th>RnD</th>\n",
       "      <th>Administration</th>\n",
       "      <th>Marketing</th>\n",
       "      <th>State</th>\n",
       "      <th>Profit</th>\n",
       "    </tr>\n",
       "  </thead>\n",
       "  <tbody>\n",
       "    <tr>\n",
       "      <th>45</th>\n",
       "      <td>1000.23</td>\n",
       "      <td>124153.04</td>\n",
       "      <td>1903.93</td>\n",
       "      <td>New York</td>\n",
       "      <td>64926.08</td>\n",
       "    </tr>\n",
       "    <tr>\n",
       "      <th>46</th>\n",
       "      <td>1315.46</td>\n",
       "      <td>115816.21</td>\n",
       "      <td>297114.46</td>\n",
       "      <td>Florida</td>\n",
       "      <td>49490.75</td>\n",
       "    </tr>\n",
       "    <tr>\n",
       "      <th>47</th>\n",
       "      <td>0.00</td>\n",
       "      <td>135426.92</td>\n",
       "      <td>0.00</td>\n",
       "      <td>California</td>\n",
       "      <td>42559.73</td>\n",
       "    </tr>\n",
       "    <tr>\n",
       "      <th>48</th>\n",
       "      <td>542.05</td>\n",
       "      <td>51743.15</td>\n",
       "      <td>0.00</td>\n",
       "      <td>New York</td>\n",
       "      <td>35673.41</td>\n",
       "    </tr>\n",
       "    <tr>\n",
       "      <th>49</th>\n",
       "      <td>0.00</td>\n",
       "      <td>116983.80</td>\n",
       "      <td>45173.06</td>\n",
       "      <td>California</td>\n",
       "      <td>14681.40</td>\n",
       "    </tr>\n",
       "  </tbody>\n",
       "</table>\n",
       "</div>"
      ],
      "text/plain": [
       "        RnD  Administration  Marketing       State    Profit\n",
       "45  1000.23       124153.04    1903.93    New York  64926.08\n",
       "46  1315.46       115816.21  297114.46     Florida  49490.75\n",
       "47     0.00       135426.92       0.00  California  42559.73\n",
       "48   542.05        51743.15       0.00    New York  35673.41\n",
       "49     0.00       116983.80   45173.06  California  14681.40"
      ]
     },
     "execution_count": 41,
     "metadata": {},
     "output_type": "execute_result"
    }
   ],
   "source": [
    "df.tail()"
   ]
  },
  {
   "cell_type": "code",
   "execution_count": 42,
   "id": "ff84c08f-5738-40d5-98c4-a78458669968",
   "metadata": {},
   "outputs": [],
   "source": [
    "#Q11. iv) display the columns inside the dataset"
   ]
  },
  {
   "cell_type": "code",
   "execution_count": 43,
   "id": "9e366f7e-5f19-4b8f-980c-51270570a33f",
   "metadata": {},
   "outputs": [
    {
     "data": {
      "text/plain": [
       "Index(['RnD', 'Administration', 'Marketing', 'State', 'Profit'], dtype='object')"
      ]
     },
     "execution_count": 43,
     "metadata": {},
     "output_type": "execute_result"
    }
   ],
   "source": [
    "df.columns"
   ]
  },
  {
   "cell_type": "code",
   "execution_count": 44,
   "id": "38220d0c-d6a5-46f7-8d75-ba61ca141f2e",
   "metadata": {},
   "outputs": [],
   "source": [
    "#Q11. v) display last three records from dataset."
   ]
  },
  {
   "cell_type": "code",
   "execution_count": 45,
   "id": "f562ea09-b7a1-4df0-bdd0-f4ef0175f55e",
   "metadata": {},
   "outputs": [
    {
     "data": {
      "text/html": [
       "<div>\n",
       "<style scoped>\n",
       "    .dataframe tbody tr th:only-of-type {\n",
       "        vertical-align: middle;\n",
       "    }\n",
       "\n",
       "    .dataframe tbody tr th {\n",
       "        vertical-align: top;\n",
       "    }\n",
       "\n",
       "    .dataframe thead th {\n",
       "        text-align: right;\n",
       "    }\n",
       "</style>\n",
       "<table border=\"1\" class=\"dataframe\">\n",
       "  <thead>\n",
       "    <tr style=\"text-align: right;\">\n",
       "      <th></th>\n",
       "      <th>RnD</th>\n",
       "      <th>Administration</th>\n",
       "      <th>Marketing</th>\n",
       "      <th>State</th>\n",
       "      <th>Profit</th>\n",
       "    </tr>\n",
       "  </thead>\n",
       "  <tbody>\n",
       "    <tr>\n",
       "      <th>47</th>\n",
       "      <td>0.00</td>\n",
       "      <td>135426.92</td>\n",
       "      <td>0.00</td>\n",
       "      <td>California</td>\n",
       "      <td>42559.73</td>\n",
       "    </tr>\n",
       "    <tr>\n",
       "      <th>48</th>\n",
       "      <td>542.05</td>\n",
       "      <td>51743.15</td>\n",
       "      <td>0.00</td>\n",
       "      <td>New York</td>\n",
       "      <td>35673.41</td>\n",
       "    </tr>\n",
       "    <tr>\n",
       "      <th>49</th>\n",
       "      <td>0.00</td>\n",
       "      <td>116983.80</td>\n",
       "      <td>45173.06</td>\n",
       "      <td>California</td>\n",
       "      <td>14681.40</td>\n",
       "    </tr>\n",
       "  </tbody>\n",
       "</table>\n",
       "</div>"
      ],
      "text/plain": [
       "       RnD  Administration  Marketing       State    Profit\n",
       "47    0.00       135426.92       0.00  California  42559.73\n",
       "48  542.05        51743.15       0.00    New York  35673.41\n",
       "49    0.00       116983.80   45173.06  California  14681.40"
      ]
     },
     "execution_count": 45,
     "metadata": {},
     "output_type": "execute_result"
    }
   ],
   "source": [
    "df.tail(3)"
   ]
  },
  {
   "cell_type": "code",
   "execution_count": 46,
   "id": "1fb29326-24a3-4e84-964f-b58b8bfb5eb0",
   "metadata": {},
   "outputs": [],
   "source": [
    "#Q11. vi) display the information about the dataset and analyse the data.\n"
   ]
  },
  {
   "cell_type": "code",
   "execution_count": 47,
   "id": "d4cac6fb-b917-43c9-a398-3e9f018e7508",
   "metadata": {},
   "outputs": [
    {
     "name": "stdout",
     "output_type": "stream",
     "text": [
      "<class 'pandas.core.frame.DataFrame'>\n",
      "RangeIndex: 50 entries, 0 to 49\n",
      "Data columns (total 5 columns):\n",
      " #   Column          Non-Null Count  Dtype  \n",
      "---  ------          --------------  -----  \n",
      " 0   RnD             50 non-null     float64\n",
      " 1   Administration  50 non-null     float64\n",
      " 2   Marketing       50 non-null     float64\n",
      " 3   State           50 non-null     object \n",
      " 4   Profit          50 non-null     float64\n",
      "dtypes: float64(4), object(1)\n",
      "memory usage: 2.1+ KB\n"
     ]
    }
   ],
   "source": [
    "df.info()"
   ]
  },
  {
   "cell_type": "code",
   "execution_count": 48,
   "id": "5be4e435-aac0-490b-8c23-58ff3bce48ab",
   "metadata": {},
   "outputs": [],
   "source": [
    "#Q11. vii) display types of each columns."
   ]
  },
  {
   "cell_type": "code",
   "execution_count": null,
   "id": "8ef707be-b3da-4f1c-af7c-ce2b66013da7",
   "metadata": {},
   "outputs": [],
   "source": []
  },
  {
   "cell_type": "code",
   "execution_count": 49,
   "id": "3d0d61d3-6fe1-4fdb-b49b-8f71ed286225",
   "metadata": {},
   "outputs": [],
   "source": [
    "#Q11.viii) check for null values in the dataset and display the sum of null values inside the column.\n"
   ]
  },
  {
   "cell_type": "code",
   "execution_count": 50,
   "id": "67617c29-54ef-4429-b003-bdefdf508449",
   "metadata": {},
   "outputs": [
    {
     "data": {
      "text/plain": [
       "RnD               0\n",
       "Administration    0\n",
       "Marketing         0\n",
       "State             0\n",
       "Profit            0\n",
       "dtype: int64"
      ]
     },
     "execution_count": 50,
     "metadata": {},
     "output_type": "execute_result"
    }
   ],
   "source": [
    "df.isna().sum()"
   ]
  },
  {
   "cell_type": "code",
   "execution_count": 51,
   "id": "2e944e65-debd-4285-ac20-d96816473ab3",
   "metadata": {},
   "outputs": [],
   "source": [
    "#Q11.ix) drop a column 'radio' from a dataset and display first ten records.\n"
   ]
  },
  {
   "cell_type": "code",
   "execution_count": 52,
   "id": "5df35b97-d997-40d7-aed6-02575f0554da",
   "metadata": {},
   "outputs": [
    {
     "data": {
      "text/html": [
       "<div>\n",
       "<style scoped>\n",
       "    .dataframe tbody tr th:only-of-type {\n",
       "        vertical-align: middle;\n",
       "    }\n",
       "\n",
       "    .dataframe tbody tr th {\n",
       "        vertical-align: top;\n",
       "    }\n",
       "\n",
       "    .dataframe thead th {\n",
       "        text-align: right;\n",
       "    }\n",
       "</style>\n",
       "<table border=\"1\" class=\"dataframe\">\n",
       "  <thead>\n",
       "    <tr style=\"text-align: right;\">\n",
       "      <th></th>\n",
       "      <th>RnD</th>\n",
       "      <th>Administration</th>\n",
       "      <th>State</th>\n",
       "      <th>Profit</th>\n",
       "    </tr>\n",
       "  </thead>\n",
       "  <tbody>\n",
       "    <tr>\n",
       "      <th>0</th>\n",
       "      <td>165349.20</td>\n",
       "      <td>136897.80</td>\n",
       "      <td>New York</td>\n",
       "      <td>192261.83</td>\n",
       "    </tr>\n",
       "    <tr>\n",
       "      <th>1</th>\n",
       "      <td>162597.70</td>\n",
       "      <td>151377.59</td>\n",
       "      <td>California</td>\n",
       "      <td>191792.06</td>\n",
       "    </tr>\n",
       "    <tr>\n",
       "      <th>2</th>\n",
       "      <td>153441.51</td>\n",
       "      <td>101145.55</td>\n",
       "      <td>Florida</td>\n",
       "      <td>191050.39</td>\n",
       "    </tr>\n",
       "    <tr>\n",
       "      <th>3</th>\n",
       "      <td>144372.41</td>\n",
       "      <td>118671.85</td>\n",
       "      <td>New York</td>\n",
       "      <td>182901.99</td>\n",
       "    </tr>\n",
       "    <tr>\n",
       "      <th>4</th>\n",
       "      <td>142107.34</td>\n",
       "      <td>91391.77</td>\n",
       "      <td>Florida</td>\n",
       "      <td>166187.94</td>\n",
       "    </tr>\n",
       "    <tr>\n",
       "      <th>5</th>\n",
       "      <td>131876.90</td>\n",
       "      <td>99814.71</td>\n",
       "      <td>New York</td>\n",
       "      <td>156991.12</td>\n",
       "    </tr>\n",
       "    <tr>\n",
       "      <th>6</th>\n",
       "      <td>134615.46</td>\n",
       "      <td>147198.87</td>\n",
       "      <td>California</td>\n",
       "      <td>156122.51</td>\n",
       "    </tr>\n",
       "    <tr>\n",
       "      <th>7</th>\n",
       "      <td>130298.13</td>\n",
       "      <td>145530.06</td>\n",
       "      <td>Florida</td>\n",
       "      <td>155752.60</td>\n",
       "    </tr>\n",
       "    <tr>\n",
       "      <th>8</th>\n",
       "      <td>120542.52</td>\n",
       "      <td>148718.95</td>\n",
       "      <td>New York</td>\n",
       "      <td>152211.77</td>\n",
       "    </tr>\n",
       "    <tr>\n",
       "      <th>9</th>\n",
       "      <td>123334.88</td>\n",
       "      <td>108679.17</td>\n",
       "      <td>California</td>\n",
       "      <td>149759.96</td>\n",
       "    </tr>\n",
       "    <tr>\n",
       "      <th>10</th>\n",
       "      <td>101913.08</td>\n",
       "      <td>110594.11</td>\n",
       "      <td>Florida</td>\n",
       "      <td>146121.95</td>\n",
       "    </tr>\n",
       "    <tr>\n",
       "      <th>11</th>\n",
       "      <td>100671.96</td>\n",
       "      <td>91790.61</td>\n",
       "      <td>California</td>\n",
       "      <td>144259.40</td>\n",
       "    </tr>\n",
       "    <tr>\n",
       "      <th>12</th>\n",
       "      <td>93863.75</td>\n",
       "      <td>127320.38</td>\n",
       "      <td>Florida</td>\n",
       "      <td>141585.52</td>\n",
       "    </tr>\n",
       "    <tr>\n",
       "      <th>13</th>\n",
       "      <td>91992.39</td>\n",
       "      <td>135495.07</td>\n",
       "      <td>California</td>\n",
       "      <td>134307.35</td>\n",
       "    </tr>\n",
       "    <tr>\n",
       "      <th>14</th>\n",
       "      <td>119943.24</td>\n",
       "      <td>156547.42</td>\n",
       "      <td>Florida</td>\n",
       "      <td>132602.65</td>\n",
       "    </tr>\n",
       "    <tr>\n",
       "      <th>15</th>\n",
       "      <td>114523.61</td>\n",
       "      <td>122616.84</td>\n",
       "      <td>New York</td>\n",
       "      <td>129917.04</td>\n",
       "    </tr>\n",
       "    <tr>\n",
       "      <th>16</th>\n",
       "      <td>78013.11</td>\n",
       "      <td>121597.55</td>\n",
       "      <td>California</td>\n",
       "      <td>126992.93</td>\n",
       "    </tr>\n",
       "    <tr>\n",
       "      <th>17</th>\n",
       "      <td>94657.16</td>\n",
       "      <td>145077.58</td>\n",
       "      <td>New York</td>\n",
       "      <td>125370.37</td>\n",
       "    </tr>\n",
       "    <tr>\n",
       "      <th>18</th>\n",
       "      <td>91749.16</td>\n",
       "      <td>114175.79</td>\n",
       "      <td>Florida</td>\n",
       "      <td>124266.90</td>\n",
       "    </tr>\n",
       "    <tr>\n",
       "      <th>19</th>\n",
       "      <td>86419.70</td>\n",
       "      <td>153514.11</td>\n",
       "      <td>New York</td>\n",
       "      <td>122776.86</td>\n",
       "    </tr>\n",
       "    <tr>\n",
       "      <th>20</th>\n",
       "      <td>76253.86</td>\n",
       "      <td>113867.30</td>\n",
       "      <td>California</td>\n",
       "      <td>118474.03</td>\n",
       "    </tr>\n",
       "    <tr>\n",
       "      <th>21</th>\n",
       "      <td>78389.47</td>\n",
       "      <td>153773.43</td>\n",
       "      <td>New York</td>\n",
       "      <td>111313.02</td>\n",
       "    </tr>\n",
       "    <tr>\n",
       "      <th>22</th>\n",
       "      <td>73994.56</td>\n",
       "      <td>122782.75</td>\n",
       "      <td>Florida</td>\n",
       "      <td>110352.25</td>\n",
       "    </tr>\n",
       "    <tr>\n",
       "      <th>23</th>\n",
       "      <td>67532.53</td>\n",
       "      <td>105751.03</td>\n",
       "      <td>Florida</td>\n",
       "      <td>108733.99</td>\n",
       "    </tr>\n",
       "    <tr>\n",
       "      <th>24</th>\n",
       "      <td>77044.01</td>\n",
       "      <td>99281.34</td>\n",
       "      <td>New York</td>\n",
       "      <td>108552.04</td>\n",
       "    </tr>\n",
       "    <tr>\n",
       "      <th>25</th>\n",
       "      <td>64664.71</td>\n",
       "      <td>139553.16</td>\n",
       "      <td>California</td>\n",
       "      <td>107404.34</td>\n",
       "    </tr>\n",
       "    <tr>\n",
       "      <th>26</th>\n",
       "      <td>75328.87</td>\n",
       "      <td>144135.98</td>\n",
       "      <td>Florida</td>\n",
       "      <td>105733.54</td>\n",
       "    </tr>\n",
       "    <tr>\n",
       "      <th>27</th>\n",
       "      <td>72107.60</td>\n",
       "      <td>127864.55</td>\n",
       "      <td>New York</td>\n",
       "      <td>105008.31</td>\n",
       "    </tr>\n",
       "    <tr>\n",
       "      <th>28</th>\n",
       "      <td>66051.52</td>\n",
       "      <td>182645.56</td>\n",
       "      <td>Florida</td>\n",
       "      <td>103282.38</td>\n",
       "    </tr>\n",
       "    <tr>\n",
       "      <th>29</th>\n",
       "      <td>65605.48</td>\n",
       "      <td>153032.06</td>\n",
       "      <td>New York</td>\n",
       "      <td>101004.64</td>\n",
       "    </tr>\n",
       "    <tr>\n",
       "      <th>30</th>\n",
       "      <td>61994.48</td>\n",
       "      <td>115641.28</td>\n",
       "      <td>Florida</td>\n",
       "      <td>99937.59</td>\n",
       "    </tr>\n",
       "    <tr>\n",
       "      <th>31</th>\n",
       "      <td>61136.38</td>\n",
       "      <td>152701.92</td>\n",
       "      <td>New York</td>\n",
       "      <td>97483.56</td>\n",
       "    </tr>\n",
       "    <tr>\n",
       "      <th>32</th>\n",
       "      <td>63408.86</td>\n",
       "      <td>129219.61</td>\n",
       "      <td>California</td>\n",
       "      <td>97427.84</td>\n",
       "    </tr>\n",
       "    <tr>\n",
       "      <th>33</th>\n",
       "      <td>55493.95</td>\n",
       "      <td>103057.49</td>\n",
       "      <td>Florida</td>\n",
       "      <td>96778.92</td>\n",
       "    </tr>\n",
       "    <tr>\n",
       "      <th>34</th>\n",
       "      <td>46426.07</td>\n",
       "      <td>157693.92</td>\n",
       "      <td>California</td>\n",
       "      <td>96712.80</td>\n",
       "    </tr>\n",
       "    <tr>\n",
       "      <th>35</th>\n",
       "      <td>46014.02</td>\n",
       "      <td>85047.44</td>\n",
       "      <td>New York</td>\n",
       "      <td>96479.51</td>\n",
       "    </tr>\n",
       "    <tr>\n",
       "      <th>36</th>\n",
       "      <td>28663.76</td>\n",
       "      <td>127056.21</td>\n",
       "      <td>Florida</td>\n",
       "      <td>90708.19</td>\n",
       "    </tr>\n",
       "    <tr>\n",
       "      <th>37</th>\n",
       "      <td>44069.95</td>\n",
       "      <td>51283.14</td>\n",
       "      <td>California</td>\n",
       "      <td>89949.14</td>\n",
       "    </tr>\n",
       "    <tr>\n",
       "      <th>38</th>\n",
       "      <td>20229.59</td>\n",
       "      <td>65947.93</td>\n",
       "      <td>New York</td>\n",
       "      <td>81229.06</td>\n",
       "    </tr>\n",
       "    <tr>\n",
       "      <th>39</th>\n",
       "      <td>38558.51</td>\n",
       "      <td>82982.09</td>\n",
       "      <td>California</td>\n",
       "      <td>81005.76</td>\n",
       "    </tr>\n",
       "    <tr>\n",
       "      <th>40</th>\n",
       "      <td>28754.33</td>\n",
       "      <td>118546.05</td>\n",
       "      <td>California</td>\n",
       "      <td>78239.91</td>\n",
       "    </tr>\n",
       "    <tr>\n",
       "      <th>41</th>\n",
       "      <td>27892.92</td>\n",
       "      <td>84710.77</td>\n",
       "      <td>Florida</td>\n",
       "      <td>77798.83</td>\n",
       "    </tr>\n",
       "    <tr>\n",
       "      <th>42</th>\n",
       "      <td>23640.93</td>\n",
       "      <td>96189.63</td>\n",
       "      <td>California</td>\n",
       "      <td>71498.49</td>\n",
       "    </tr>\n",
       "    <tr>\n",
       "      <th>43</th>\n",
       "      <td>15505.73</td>\n",
       "      <td>127382.30</td>\n",
       "      <td>New York</td>\n",
       "      <td>69758.98</td>\n",
       "    </tr>\n",
       "    <tr>\n",
       "      <th>44</th>\n",
       "      <td>22177.74</td>\n",
       "      <td>154806.14</td>\n",
       "      <td>California</td>\n",
       "      <td>65200.33</td>\n",
       "    </tr>\n",
       "    <tr>\n",
       "      <th>45</th>\n",
       "      <td>1000.23</td>\n",
       "      <td>124153.04</td>\n",
       "      <td>New York</td>\n",
       "      <td>64926.08</td>\n",
       "    </tr>\n",
       "    <tr>\n",
       "      <th>46</th>\n",
       "      <td>1315.46</td>\n",
       "      <td>115816.21</td>\n",
       "      <td>Florida</td>\n",
       "      <td>49490.75</td>\n",
       "    </tr>\n",
       "    <tr>\n",
       "      <th>47</th>\n",
       "      <td>0.00</td>\n",
       "      <td>135426.92</td>\n",
       "      <td>California</td>\n",
       "      <td>42559.73</td>\n",
       "    </tr>\n",
       "    <tr>\n",
       "      <th>48</th>\n",
       "      <td>542.05</td>\n",
       "      <td>51743.15</td>\n",
       "      <td>New York</td>\n",
       "      <td>35673.41</td>\n",
       "    </tr>\n",
       "    <tr>\n",
       "      <th>49</th>\n",
       "      <td>0.00</td>\n",
       "      <td>116983.80</td>\n",
       "      <td>California</td>\n",
       "      <td>14681.40</td>\n",
       "    </tr>\n",
       "  </tbody>\n",
       "</table>\n",
       "</div>"
      ],
      "text/plain": [
       "          RnD  Administration       State     Profit\n",
       "0   165349.20       136897.80    New York  192261.83\n",
       "1   162597.70       151377.59  California  191792.06\n",
       "2   153441.51       101145.55     Florida  191050.39\n",
       "3   144372.41       118671.85    New York  182901.99\n",
       "4   142107.34        91391.77     Florida  166187.94\n",
       "5   131876.90        99814.71    New York  156991.12\n",
       "6   134615.46       147198.87  California  156122.51\n",
       "7   130298.13       145530.06     Florida  155752.60\n",
       "8   120542.52       148718.95    New York  152211.77\n",
       "9   123334.88       108679.17  California  149759.96\n",
       "10  101913.08       110594.11     Florida  146121.95\n",
       "11  100671.96        91790.61  California  144259.40\n",
       "12   93863.75       127320.38     Florida  141585.52\n",
       "13   91992.39       135495.07  California  134307.35\n",
       "14  119943.24       156547.42     Florida  132602.65\n",
       "15  114523.61       122616.84    New York  129917.04\n",
       "16   78013.11       121597.55  California  126992.93\n",
       "17   94657.16       145077.58    New York  125370.37\n",
       "18   91749.16       114175.79     Florida  124266.90\n",
       "19   86419.70       153514.11    New York  122776.86\n",
       "20   76253.86       113867.30  California  118474.03\n",
       "21   78389.47       153773.43    New York  111313.02\n",
       "22   73994.56       122782.75     Florida  110352.25\n",
       "23   67532.53       105751.03     Florida  108733.99\n",
       "24   77044.01        99281.34    New York  108552.04\n",
       "25   64664.71       139553.16  California  107404.34\n",
       "26   75328.87       144135.98     Florida  105733.54\n",
       "27   72107.60       127864.55    New York  105008.31\n",
       "28   66051.52       182645.56     Florida  103282.38\n",
       "29   65605.48       153032.06    New York  101004.64\n",
       "30   61994.48       115641.28     Florida   99937.59\n",
       "31   61136.38       152701.92    New York   97483.56\n",
       "32   63408.86       129219.61  California   97427.84\n",
       "33   55493.95       103057.49     Florida   96778.92\n",
       "34   46426.07       157693.92  California   96712.80\n",
       "35   46014.02        85047.44    New York   96479.51\n",
       "36   28663.76       127056.21     Florida   90708.19\n",
       "37   44069.95        51283.14  California   89949.14\n",
       "38   20229.59        65947.93    New York   81229.06\n",
       "39   38558.51        82982.09  California   81005.76\n",
       "40   28754.33       118546.05  California   78239.91\n",
       "41   27892.92        84710.77     Florida   77798.83\n",
       "42   23640.93        96189.63  California   71498.49\n",
       "43   15505.73       127382.30    New York   69758.98\n",
       "44   22177.74       154806.14  California   65200.33\n",
       "45    1000.23       124153.04    New York   64926.08\n",
       "46    1315.46       115816.21     Florida   49490.75\n",
       "47       0.00       135426.92  California   42559.73\n",
       "48     542.05        51743.15    New York   35673.41\n",
       "49       0.00       116983.80  California   14681.40"
      ]
     },
     "execution_count": 52,
     "metadata": {},
     "output_type": "execute_result"
    }
   ],
   "source": [
    "df.drop(['Marketing'],axis = 1)"
   ]
  },
  {
   "cell_type": "code",
   "execution_count": 53,
   "id": "9e60b6a1-95bd-4a0b-a4bf-a398445dcff9",
   "metadata": {},
   "outputs": [],
   "source": [
    "#Q11. x) increase the sales by 10% and add a new column \"updated_sales\" in dataframe."
   ]
  },
  {
   "cell_type": "code",
   "execution_count": 54,
   "id": "a7e2f95b-53b0-49c8-9b69-fb329e3c9956",
   "metadata": {},
   "outputs": [],
   "source": [
    "df['bonus'] = df['Profit'] * 0.10"
   ]
  },
  {
   "cell_type": "code",
   "execution_count": 55,
   "id": "12638f2c-ada3-4146-a93b-a9eb2a02dfe3",
   "metadata": {},
   "outputs": [
    {
     "name": "stdout",
     "output_type": "stream",
     "text": [
      "          RnD  Administration  Marketing       State     Profit      bonus\n",
      "0   165349.20       136897.80  471784.10    New York  192261.83  19226.183\n",
      "1   162597.70       151377.59  443898.53  California  191792.06  19179.206\n",
      "2   153441.51       101145.55  407934.54     Florida  191050.39  19105.039\n",
      "3   144372.41       118671.85  383199.62    New York  182901.99  18290.199\n",
      "4   142107.34        91391.77  366168.42     Florida  166187.94  16618.794\n",
      "5   131876.90        99814.71  362861.36    New York  156991.12  15699.112\n",
      "6   134615.46       147198.87  127716.82  California  156122.51  15612.251\n",
      "7   130298.13       145530.06  323876.68     Florida  155752.60  15575.260\n",
      "8   120542.52       148718.95  311613.29    New York  152211.77  15221.177\n",
      "9   123334.88       108679.17  304981.62  California  149759.96  14975.996\n",
      "10  101913.08       110594.11  229160.95     Florida  146121.95  14612.195\n",
      "11  100671.96        91790.61  249744.55  California  144259.40  14425.940\n",
      "12   93863.75       127320.38  249839.44     Florida  141585.52  14158.552\n",
      "13   91992.39       135495.07  252664.93  California  134307.35  13430.735\n",
      "14  119943.24       156547.42  256512.92     Florida  132602.65  13260.265\n",
      "15  114523.61       122616.84  261776.23    New York  129917.04  12991.704\n",
      "16   78013.11       121597.55  264346.06  California  126992.93  12699.293\n",
      "17   94657.16       145077.58  282574.31    New York  125370.37  12537.037\n",
      "18   91749.16       114175.79  294919.57     Florida  124266.90  12426.690\n",
      "19   86419.70       153514.11       0.00    New York  122776.86  12277.686\n",
      "20   76253.86       113867.30  298664.47  California  118474.03  11847.403\n",
      "21   78389.47       153773.43  299737.29    New York  111313.02  11131.302\n",
      "22   73994.56       122782.75  303319.26     Florida  110352.25  11035.225\n",
      "23   67532.53       105751.03  304768.73     Florida  108733.99  10873.399\n",
      "24   77044.01        99281.34  140574.81    New York  108552.04  10855.204\n",
      "25   64664.71       139553.16  137962.62  California  107404.34  10740.434\n",
      "26   75328.87       144135.98  134050.07     Florida  105733.54  10573.354\n",
      "27   72107.60       127864.55  353183.81    New York  105008.31  10500.831\n",
      "28   66051.52       182645.56  118148.20     Florida  103282.38  10328.238\n",
      "29   65605.48       153032.06  107138.38    New York  101004.64  10100.464\n",
      "30   61994.48       115641.28   91131.24     Florida   99937.59   9993.759\n",
      "31   61136.38       152701.92   88218.23    New York   97483.56   9748.356\n",
      "32   63408.86       129219.61   46085.25  California   97427.84   9742.784\n",
      "33   55493.95       103057.49  214634.81     Florida   96778.92   9677.892\n",
      "34   46426.07       157693.92  210797.67  California   96712.80   9671.280\n",
      "35   46014.02        85047.44  205517.64    New York   96479.51   9647.951\n",
      "36   28663.76       127056.21  201126.82     Florida   90708.19   9070.819\n",
      "37   44069.95        51283.14  197029.42  California   89949.14   8994.914\n",
      "38   20229.59        65947.93  185265.10    New York   81229.06   8122.906\n",
      "39   38558.51        82982.09  174999.30  California   81005.76   8100.576\n",
      "40   28754.33       118546.05  172795.67  California   78239.91   7823.991\n",
      "41   27892.92        84710.77  164470.71     Florida   77798.83   7779.883\n",
      "42   23640.93        96189.63  148001.11  California   71498.49   7149.849\n",
      "43   15505.73       127382.30   35534.17    New York   69758.98   6975.898\n",
      "44   22177.74       154806.14   28334.72  California   65200.33   6520.033\n",
      "45    1000.23       124153.04    1903.93    New York   64926.08   6492.608\n",
      "46    1315.46       115816.21  297114.46     Florida   49490.75   4949.075\n",
      "47       0.00       135426.92       0.00  California   42559.73   4255.973\n",
      "48     542.05        51743.15       0.00    New York   35673.41   3567.341\n",
      "49       0.00       116983.80   45173.06  California   14681.40   1468.140\n"
     ]
    }
   ],
   "source": [
    "print(df)"
   ]
  },
  {
   "cell_type": "code",
   "execution_count": 56,
   "id": "2da31b6c-f440-4792-9e28-66d52758eccc",
   "metadata": {},
   "outputs": [],
   "source": [
    " #Q11.xi)display shape of data."
   ]
  },
  {
   "cell_type": "code",
   "execution_count": 57,
   "id": "ec6b77e9-3dfe-4da0-b0d9-9e951dccf4bf",
   "metadata": {},
   "outputs": [],
   "source": [
    "shape = df.shape"
   ]
  },
  {
   "cell_type": "code",
   "execution_count": 58,
   "id": "1871c54e-0fa0-43ee-a4a1-9ac398848075",
   "metadata": {},
   "outputs": [
    {
     "name": "stdout",
     "output_type": "stream",
     "text": [
      "(50, 6)\n"
     ]
    }
   ],
   "source": [
    "print(shape)"
   ]
  },
  {
   "cell_type": "code",
   "execution_count": 59,
   "id": "86260fd1-5b77-41fe-871b-6d6397e4f3c0",
   "metadata": {},
   "outputs": [],
   "source": [
    "#Q11. xiii) describe the dataset."
   ]
  },
  {
   "cell_type": "code",
   "execution_count": 60,
   "id": "8c8cc82d-c8ea-4060-8e8a-fccb8b09a2e7",
   "metadata": {},
   "outputs": [
    {
     "data": {
      "text/html": [
       "<div>\n",
       "<style scoped>\n",
       "    .dataframe tbody tr th:only-of-type {\n",
       "        vertical-align: middle;\n",
       "    }\n",
       "\n",
       "    .dataframe tbody tr th {\n",
       "        vertical-align: top;\n",
       "    }\n",
       "\n",
       "    .dataframe thead th {\n",
       "        text-align: right;\n",
       "    }\n",
       "</style>\n",
       "<table border=\"1\" class=\"dataframe\">\n",
       "  <thead>\n",
       "    <tr style=\"text-align: right;\">\n",
       "      <th></th>\n",
       "      <th>RnD</th>\n",
       "      <th>Administration</th>\n",
       "      <th>Marketing</th>\n",
       "      <th>Profit</th>\n",
       "      <th>bonus</th>\n",
       "    </tr>\n",
       "  </thead>\n",
       "  <tbody>\n",
       "    <tr>\n",
       "      <th>count</th>\n",
       "      <td>50.000000</td>\n",
       "      <td>50.000000</td>\n",
       "      <td>50.000000</td>\n",
       "      <td>50.000000</td>\n",
       "      <td>50.000000</td>\n",
       "    </tr>\n",
       "    <tr>\n",
       "      <th>mean</th>\n",
       "      <td>73721.615600</td>\n",
       "      <td>121344.639600</td>\n",
       "      <td>211025.097800</td>\n",
       "      <td>112012.639200</td>\n",
       "      <td>11201.263920</td>\n",
       "    </tr>\n",
       "    <tr>\n",
       "      <th>std</th>\n",
       "      <td>45902.256482</td>\n",
       "      <td>28017.802755</td>\n",
       "      <td>122290.310726</td>\n",
       "      <td>40306.180338</td>\n",
       "      <td>4030.618034</td>\n",
       "    </tr>\n",
       "    <tr>\n",
       "      <th>min</th>\n",
       "      <td>0.000000</td>\n",
       "      <td>51283.140000</td>\n",
       "      <td>0.000000</td>\n",
       "      <td>14681.400000</td>\n",
       "      <td>1468.140000</td>\n",
       "    </tr>\n",
       "    <tr>\n",
       "      <th>25%</th>\n",
       "      <td>39936.370000</td>\n",
       "      <td>103730.875000</td>\n",
       "      <td>129300.132500</td>\n",
       "      <td>90138.902500</td>\n",
       "      <td>9013.890250</td>\n",
       "    </tr>\n",
       "    <tr>\n",
       "      <th>50%</th>\n",
       "      <td>73051.080000</td>\n",
       "      <td>122699.795000</td>\n",
       "      <td>212716.240000</td>\n",
       "      <td>107978.190000</td>\n",
       "      <td>10797.819000</td>\n",
       "    </tr>\n",
       "    <tr>\n",
       "      <th>75%</th>\n",
       "      <td>101602.800000</td>\n",
       "      <td>144842.180000</td>\n",
       "      <td>299469.085000</td>\n",
       "      <td>139765.977500</td>\n",
       "      <td>13976.597750</td>\n",
       "    </tr>\n",
       "    <tr>\n",
       "      <th>max</th>\n",
       "      <td>165349.200000</td>\n",
       "      <td>182645.560000</td>\n",
       "      <td>471784.100000</td>\n",
       "      <td>192261.830000</td>\n",
       "      <td>19226.183000</td>\n",
       "    </tr>\n",
       "  </tbody>\n",
       "</table>\n",
       "</div>"
      ],
      "text/plain": [
       "                 RnD  Administration      Marketing         Profit  \\\n",
       "count      50.000000       50.000000      50.000000      50.000000   \n",
       "mean    73721.615600   121344.639600  211025.097800  112012.639200   \n",
       "std     45902.256482    28017.802755  122290.310726   40306.180338   \n",
       "min         0.000000    51283.140000       0.000000   14681.400000   \n",
       "25%     39936.370000   103730.875000  129300.132500   90138.902500   \n",
       "50%     73051.080000   122699.795000  212716.240000  107978.190000   \n",
       "75%    101602.800000   144842.180000  299469.085000  139765.977500   \n",
       "max    165349.200000   182645.560000  471784.100000  192261.830000   \n",
       "\n",
       "              bonus  \n",
       "count     50.000000  \n",
       "mean   11201.263920  \n",
       "std     4030.618034  \n",
       "min     1468.140000  \n",
       "25%     9013.890250  \n",
       "50%    10797.819000  \n",
       "75%    13976.597750  \n",
       "max    19226.183000  "
      ]
     },
     "execution_count": 60,
     "metadata": {},
     "output_type": "execute_result"
    }
   ],
   "source": [
    "df.describe()"
   ]
  },
  {
   "cell_type": "code",
   "execution_count": 61,
   "id": "d7014fa9-48c6-42da-98f2-e8dccfc34cc7",
   "metadata": {},
   "outputs": [],
   "source": [
    "#Q11.xii) Find out maximum,minimum,mean,median,standard deviation value of each column.\n",
    " "
   ]
  },
  {
   "cell_type": "code",
   "execution_count": 62,
   "id": "77ef4b38-acb7-4a9c-abf5-53f10dd0057b",
   "metadata": {},
   "outputs": [
    {
     "name": "stdout",
     "output_type": "stream",
     "text": [
      "RnD                      0.0\n",
      "Administration      51283.14\n",
      "Marketing                0.0\n",
      "State             California\n",
      "Profit               14681.4\n",
      "bonus                1468.14\n",
      "dtype: object\n"
     ]
    }
   ],
   "source": [
    "print(df.min()) "
   ]
  },
  {
   "cell_type": "code",
   "execution_count": 63,
   "id": "c4cd28c8-39f2-4c62-a26f-fda0ce116080",
   "metadata": {},
   "outputs": [
    {
     "name": "stdout",
     "output_type": "stream",
     "text": [
      "RnD                165349.2\n",
      "Administration    182645.56\n",
      "Marketing          471784.1\n",
      "State              New York\n",
      "Profit            192261.83\n",
      "bonus             19226.183\n",
      "dtype: object\n"
     ]
    }
   ],
   "source": [
    "print(df.max()) "
   ]
  },
  {
   "cell_type": "code",
   "execution_count": 64,
   "id": "2cae21b8-17a8-4a62-9c83-eb590bda2480",
   "metadata": {},
   "outputs": [],
   "source": [
    "#Q12. Refer the dataset \"Salaries.csv\" and perform following tasks.\n",
    "#i) Read the dataset in dataframe."
   ]
  },
  {
   "cell_type": "code",
   "execution_count": 65,
   "id": "e7410d43-dcdf-42c2-b5da-8bd114443525",
   "metadata": {},
   "outputs": [],
   "source": [
    "df = pd.read_csv('./Salary_Data.csv')"
   ]
  },
  {
   "cell_type": "code",
   "execution_count": 66,
   "id": "bab0ec21-aef0-4988-9080-9b80a8897c45",
   "metadata": {},
   "outputs": [
    {
     "name": "stdout",
     "output_type": "stream",
     "text": [
      "    YearsExperience  Salary\n",
      "0               1.1   39343\n",
      "1               1.3   46205\n",
      "2               1.5   37731\n",
      "3               2.0   43525\n",
      "4               2.2   39891\n",
      "5               2.9   56642\n",
      "6               3.0   60150\n",
      "7               3.2   54445\n",
      "8               3.2   64445\n",
      "9               3.7   57189\n",
      "10              3.9   63218\n",
      "11              4.0   55794\n",
      "12              4.0   56957\n",
      "13              4.1   57081\n",
      "14              4.5   61111\n",
      "15              4.9   67938\n",
      "16              5.1   66029\n",
      "17              5.3   83088\n",
      "18              5.9   81363\n",
      "19              6.0   93940\n",
      "20              6.8   91738\n",
      "21              7.1   98273\n",
      "22              7.9  101302\n",
      "23              8.2  113812\n",
      "24              8.7  109431\n",
      "25              9.0  105582\n",
      "26              9.5  116969\n",
      "27              9.6  112635\n",
      "28             10.3  122391\n",
      "29             10.5  121872\n",
      "30             11.0  140000\n",
      "31             12.0  155000\n",
      "32             13.0  156000\n"
     ]
    }
   ],
   "source": [
    "print(df)"
   ]
  },
  {
   "cell_type": "code",
   "execution_count": 67,
   "id": "9411c9d4-fa53-4679-b2c0-2075ce0363ea",
   "metadata": {},
   "outputs": [],
   "source": [
    "#Q12 ii) display first five records."
   ]
  },
  {
   "cell_type": "code",
   "execution_count": 68,
   "id": "37b7e2c7-6cd4-4391-9517-2cdad66a62f1",
   "metadata": {},
   "outputs": [
    {
     "data": {
      "text/html": [
       "<div>\n",
       "<style scoped>\n",
       "    .dataframe tbody tr th:only-of-type {\n",
       "        vertical-align: middle;\n",
       "    }\n",
       "\n",
       "    .dataframe tbody tr th {\n",
       "        vertical-align: top;\n",
       "    }\n",
       "\n",
       "    .dataframe thead th {\n",
       "        text-align: right;\n",
       "    }\n",
       "</style>\n",
       "<table border=\"1\" class=\"dataframe\">\n",
       "  <thead>\n",
       "    <tr style=\"text-align: right;\">\n",
       "      <th></th>\n",
       "      <th>YearsExperience</th>\n",
       "      <th>Salary</th>\n",
       "    </tr>\n",
       "  </thead>\n",
       "  <tbody>\n",
       "    <tr>\n",
       "      <th>0</th>\n",
       "      <td>1.1</td>\n",
       "      <td>39343</td>\n",
       "    </tr>\n",
       "    <tr>\n",
       "      <th>1</th>\n",
       "      <td>1.3</td>\n",
       "      <td>46205</td>\n",
       "    </tr>\n",
       "    <tr>\n",
       "      <th>2</th>\n",
       "      <td>1.5</td>\n",
       "      <td>37731</td>\n",
       "    </tr>\n",
       "    <tr>\n",
       "      <th>3</th>\n",
       "      <td>2.0</td>\n",
       "      <td>43525</td>\n",
       "    </tr>\n",
       "    <tr>\n",
       "      <th>4</th>\n",
       "      <td>2.2</td>\n",
       "      <td>39891</td>\n",
       "    </tr>\n",
       "  </tbody>\n",
       "</table>\n",
       "</div>"
      ],
      "text/plain": [
       "   YearsExperience  Salary\n",
       "0              1.1   39343\n",
       "1              1.3   46205\n",
       "2              1.5   37731\n",
       "3              2.0   43525\n",
       "4              2.2   39891"
      ]
     },
     "execution_count": 68,
     "metadata": {},
     "output_type": "execute_result"
    }
   ],
   "source": [
    "df.head()"
   ]
  },
  {
   "cell_type": "code",
   "execution_count": 69,
   "id": "eaf17948-6215-4a74-a488-72fd818d3f5f",
   "metadata": {},
   "outputs": [],
   "source": [
    "#Q12 ii) display first five records."
   ]
  },
  {
   "cell_type": "code",
   "execution_count": 70,
   "id": "b0cd00cf-7a13-477e-93dd-ed2c41affb50",
   "metadata": {},
   "outputs": [
    {
     "data": {
      "text/html": [
       "<div>\n",
       "<style scoped>\n",
       "    .dataframe tbody tr th:only-of-type {\n",
       "        vertical-align: middle;\n",
       "    }\n",
       "\n",
       "    .dataframe tbody tr th {\n",
       "        vertical-align: top;\n",
       "    }\n",
       "\n",
       "    .dataframe thead th {\n",
       "        text-align: right;\n",
       "    }\n",
       "</style>\n",
       "<table border=\"1\" class=\"dataframe\">\n",
       "  <thead>\n",
       "    <tr style=\"text-align: right;\">\n",
       "      <th></th>\n",
       "      <th>YearsExperience</th>\n",
       "      <th>Salary</th>\n",
       "    </tr>\n",
       "  </thead>\n",
       "  <tbody>\n",
       "    <tr>\n",
       "      <th>0</th>\n",
       "      <td>1.1</td>\n",
       "      <td>39343</td>\n",
       "    </tr>\n",
       "    <tr>\n",
       "      <th>1</th>\n",
       "      <td>1.3</td>\n",
       "      <td>46205</td>\n",
       "    </tr>\n",
       "    <tr>\n",
       "      <th>2</th>\n",
       "      <td>1.5</td>\n",
       "      <td>37731</td>\n",
       "    </tr>\n",
       "    <tr>\n",
       "      <th>3</th>\n",
       "      <td>2.0</td>\n",
       "      <td>43525</td>\n",
       "    </tr>\n",
       "    <tr>\n",
       "      <th>4</th>\n",
       "      <td>2.2</td>\n",
       "      <td>39891</td>\n",
       "    </tr>\n",
       "    <tr>\n",
       "      <th>5</th>\n",
       "      <td>2.9</td>\n",
       "      <td>56642</td>\n",
       "    </tr>\n",
       "    <tr>\n",
       "      <th>6</th>\n",
       "      <td>3.0</td>\n",
       "      <td>60150</td>\n",
       "    </tr>\n",
       "    <tr>\n",
       "      <th>7</th>\n",
       "      <td>3.2</td>\n",
       "      <td>54445</td>\n",
       "    </tr>\n",
       "    <tr>\n",
       "      <th>8</th>\n",
       "      <td>3.2</td>\n",
       "      <td>64445</td>\n",
       "    </tr>\n",
       "    <tr>\n",
       "      <th>9</th>\n",
       "      <td>3.7</td>\n",
       "      <td>57189</td>\n",
       "    </tr>\n",
       "  </tbody>\n",
       "</table>\n",
       "</div>"
      ],
      "text/plain": [
       "   YearsExperience  Salary\n",
       "0              1.1   39343\n",
       "1              1.3   46205\n",
       "2              1.5   37731\n",
       "3              2.0   43525\n",
       "4              2.2   39891\n",
       "5              2.9   56642\n",
       "6              3.0   60150\n",
       "7              3.2   54445\n",
       "8              3.2   64445\n",
       "9              3.7   57189"
      ]
     },
     "execution_count": 70,
     "metadata": {},
     "output_type": "execute_result"
    }
   ],
   "source": [
    "df.head(10)"
   ]
  },
  {
   "cell_type": "code",
   "execution_count": 71,
   "id": "1defafa8-dbde-4283-93cd-a04368ce60e1",
   "metadata": {},
   "outputs": [],
   "source": [
    "#Q12 iv) display last five records.\n"
   ]
  },
  {
   "cell_type": "code",
   "execution_count": 72,
   "id": "18d7c20e-ea48-415e-85f8-cea497b50c05",
   "metadata": {},
   "outputs": [
    {
     "data": {
      "text/html": [
       "<div>\n",
       "<style scoped>\n",
       "    .dataframe tbody tr th:only-of-type {\n",
       "        vertical-align: middle;\n",
       "    }\n",
       "\n",
       "    .dataframe tbody tr th {\n",
       "        vertical-align: top;\n",
       "    }\n",
       "\n",
       "    .dataframe thead th {\n",
       "        text-align: right;\n",
       "    }\n",
       "</style>\n",
       "<table border=\"1\" class=\"dataframe\">\n",
       "  <thead>\n",
       "    <tr style=\"text-align: right;\">\n",
       "      <th></th>\n",
       "      <th>YearsExperience</th>\n",
       "      <th>Salary</th>\n",
       "    </tr>\n",
       "  </thead>\n",
       "  <tbody>\n",
       "    <tr>\n",
       "      <th>28</th>\n",
       "      <td>10.3</td>\n",
       "      <td>122391</td>\n",
       "    </tr>\n",
       "    <tr>\n",
       "      <th>29</th>\n",
       "      <td>10.5</td>\n",
       "      <td>121872</td>\n",
       "    </tr>\n",
       "    <tr>\n",
       "      <th>30</th>\n",
       "      <td>11.0</td>\n",
       "      <td>140000</td>\n",
       "    </tr>\n",
       "    <tr>\n",
       "      <th>31</th>\n",
       "      <td>12.0</td>\n",
       "      <td>155000</td>\n",
       "    </tr>\n",
       "    <tr>\n",
       "      <th>32</th>\n",
       "      <td>13.0</td>\n",
       "      <td>156000</td>\n",
       "    </tr>\n",
       "  </tbody>\n",
       "</table>\n",
       "</div>"
      ],
      "text/plain": [
       "    YearsExperience  Salary\n",
       "28             10.3  122391\n",
       "29             10.5  121872\n",
       "30             11.0  140000\n",
       "31             12.0  155000\n",
       "32             13.0  156000"
      ]
     },
     "execution_count": 72,
     "metadata": {},
     "output_type": "execute_result"
    }
   ],
   "source": [
    "df.tail()"
   ]
  },
  {
   "cell_type": "code",
   "execution_count": 73,
   "id": "f0382199-329a-44bf-b1cb-b2404e2c11bf",
   "metadata": {},
   "outputs": [],
   "source": [
    "#Q12 v) display last ten records.\n"
   ]
  },
  {
   "cell_type": "code",
   "execution_count": 74,
   "id": "cffc3d81-a18d-46dc-b796-1c65ebddc56a",
   "metadata": {},
   "outputs": [
    {
     "data": {
      "text/html": [
       "<div>\n",
       "<style scoped>\n",
       "    .dataframe tbody tr th:only-of-type {\n",
       "        vertical-align: middle;\n",
       "    }\n",
       "\n",
       "    .dataframe tbody tr th {\n",
       "        vertical-align: top;\n",
       "    }\n",
       "\n",
       "    .dataframe thead th {\n",
       "        text-align: right;\n",
       "    }\n",
       "</style>\n",
       "<table border=\"1\" class=\"dataframe\">\n",
       "  <thead>\n",
       "    <tr style=\"text-align: right;\">\n",
       "      <th></th>\n",
       "      <th>YearsExperience</th>\n",
       "      <th>Salary</th>\n",
       "    </tr>\n",
       "  </thead>\n",
       "  <tbody>\n",
       "    <tr>\n",
       "      <th>23</th>\n",
       "      <td>8.2</td>\n",
       "      <td>113812</td>\n",
       "    </tr>\n",
       "    <tr>\n",
       "      <th>24</th>\n",
       "      <td>8.7</td>\n",
       "      <td>109431</td>\n",
       "    </tr>\n",
       "    <tr>\n",
       "      <th>25</th>\n",
       "      <td>9.0</td>\n",
       "      <td>105582</td>\n",
       "    </tr>\n",
       "    <tr>\n",
       "      <th>26</th>\n",
       "      <td>9.5</td>\n",
       "      <td>116969</td>\n",
       "    </tr>\n",
       "    <tr>\n",
       "      <th>27</th>\n",
       "      <td>9.6</td>\n",
       "      <td>112635</td>\n",
       "    </tr>\n",
       "    <tr>\n",
       "      <th>28</th>\n",
       "      <td>10.3</td>\n",
       "      <td>122391</td>\n",
       "    </tr>\n",
       "    <tr>\n",
       "      <th>29</th>\n",
       "      <td>10.5</td>\n",
       "      <td>121872</td>\n",
       "    </tr>\n",
       "    <tr>\n",
       "      <th>30</th>\n",
       "      <td>11.0</td>\n",
       "      <td>140000</td>\n",
       "    </tr>\n",
       "    <tr>\n",
       "      <th>31</th>\n",
       "      <td>12.0</td>\n",
       "      <td>155000</td>\n",
       "    </tr>\n",
       "    <tr>\n",
       "      <th>32</th>\n",
       "      <td>13.0</td>\n",
       "      <td>156000</td>\n",
       "    </tr>\n",
       "  </tbody>\n",
       "</table>\n",
       "</div>"
      ],
      "text/plain": [
       "    YearsExperience  Salary\n",
       "23              8.2  113812\n",
       "24              8.7  109431\n",
       "25              9.0  105582\n",
       "26              9.5  116969\n",
       "27              9.6  112635\n",
       "28             10.3  122391\n",
       "29             10.5  121872\n",
       "30             11.0  140000\n",
       "31             12.0  155000\n",
       "32             13.0  156000"
      ]
     },
     "execution_count": 74,
     "metadata": {},
     "output_type": "execute_result"
    }
   ],
   "source": [
    "df.tail(10)"
   ]
  },
  {
   "cell_type": "code",
   "execution_count": 75,
   "id": "8038445a-30b9-445a-9c65-8d43c6202c86",
   "metadata": {},
   "outputs": [],
   "source": [
    "#Q12 vi) display the columns inside the dataset."
   ]
  },
  {
   "cell_type": "code",
   "execution_count": 77,
   "id": "f22a7d03-d2a9-4c8e-bca1-462a3f9034b7",
   "metadata": {},
   "outputs": [
    {
     "data": {
      "text/plain": [
       "Index(['YearsExperience', 'Salary'], dtype='object')"
      ]
     },
     "execution_count": 77,
     "metadata": {},
     "output_type": "execute_result"
    }
   ],
   "source": [
    "df.columns"
   ]
  },
  {
   "cell_type": "code",
   "execution_count": 78,
   "id": "c415c602-8e0f-466a-9749-a39e132c950b",
   "metadata": {},
   "outputs": [],
   "source": [
    "#Q12 vii) display shape of data.\n"
   ]
  },
  {
   "cell_type": "code",
   "execution_count": 79,
   "id": "f73247e0-ab16-446f-b143-40298b391021",
   "metadata": {},
   "outputs": [
    {
     "data": {
      "text/plain": [
       "(33, 2)"
      ]
     },
     "execution_count": 79,
     "metadata": {},
     "output_type": "execute_result"
    }
   ],
   "source": [
    "df.shape"
   ]
  },
  {
   "cell_type": "code",
   "execution_count": 80,
   "id": "5eb87171-b281-4bda-985b-2b6e9f262bc7",
   "metadata": {},
   "outputs": [],
   "source": [
    "#Q12viii) describe the dataset."
   ]
  },
  {
   "cell_type": "code",
   "execution_count": 81,
   "id": "d4dec97e-1259-4894-a5cf-cb9138dab5a1",
   "metadata": {},
   "outputs": [
    {
     "data": {
      "text/html": [
       "<div>\n",
       "<style scoped>\n",
       "    .dataframe tbody tr th:only-of-type {\n",
       "        vertical-align: middle;\n",
       "    }\n",
       "\n",
       "    .dataframe tbody tr th {\n",
       "        vertical-align: top;\n",
       "    }\n",
       "\n",
       "    .dataframe thead th {\n",
       "        text-align: right;\n",
       "    }\n",
       "</style>\n",
       "<table border=\"1\" class=\"dataframe\">\n",
       "  <thead>\n",
       "    <tr style=\"text-align: right;\">\n",
       "      <th></th>\n",
       "      <th>YearsExperience</th>\n",
       "      <th>Salary</th>\n",
       "    </tr>\n",
       "  </thead>\n",
       "  <tbody>\n",
       "    <tr>\n",
       "      <th>count</th>\n",
       "      <td>33.000000</td>\n",
       "      <td>33.000000</td>\n",
       "    </tr>\n",
       "    <tr>\n",
       "      <th>mean</th>\n",
       "      <td>5.921212</td>\n",
       "      <td>82760.303030</td>\n",
       "    </tr>\n",
       "    <tr>\n",
       "      <th>std</th>\n",
       "      <td>3.342413</td>\n",
       "      <td>34014.620992</td>\n",
       "    </tr>\n",
       "    <tr>\n",
       "      <th>min</th>\n",
       "      <td>1.100000</td>\n",
       "      <td>37731.000000</td>\n",
       "    </tr>\n",
       "    <tr>\n",
       "      <th>25%</th>\n",
       "      <td>3.200000</td>\n",
       "      <td>56957.000000</td>\n",
       "    </tr>\n",
       "    <tr>\n",
       "      <th>50%</th>\n",
       "      <td>5.100000</td>\n",
       "      <td>67938.000000</td>\n",
       "    </tr>\n",
       "    <tr>\n",
       "      <th>75%</th>\n",
       "      <td>8.700000</td>\n",
       "      <td>109431.000000</td>\n",
       "    </tr>\n",
       "    <tr>\n",
       "      <th>max</th>\n",
       "      <td>13.000000</td>\n",
       "      <td>156000.000000</td>\n",
       "    </tr>\n",
       "  </tbody>\n",
       "</table>\n",
       "</div>"
      ],
      "text/plain": [
       "       YearsExperience         Salary\n",
       "count        33.000000      33.000000\n",
       "mean          5.921212   82760.303030\n",
       "std           3.342413   34014.620992\n",
       "min           1.100000   37731.000000\n",
       "25%           3.200000   56957.000000\n",
       "50%           5.100000   67938.000000\n",
       "75%           8.700000  109431.000000\n",
       "max          13.000000  156000.000000"
      ]
     },
     "execution_count": 81,
     "metadata": {},
     "output_type": "execute_result"
    }
   ],
   "source": [
    "df.describe()"
   ]
  },
  {
   "cell_type": "code",
   "execution_count": 82,
   "id": "1c000f3b-40d9-4a12-a7f0-a303f1ceefd2",
   "metadata": {},
   "outputs": [],
   "source": [
    "#Q12 ix) display the information about the dataset and analyse the data."
   ]
  },
  {
   "cell_type": "code",
   "execution_count": 83,
   "id": "6ad453ad-5747-4e33-9da4-71f200cc7bc9",
   "metadata": {},
   "outputs": [
    {
     "name": "stdout",
     "output_type": "stream",
     "text": [
      "<class 'pandas.core.frame.DataFrame'>\n",
      "RangeIndex: 33 entries, 0 to 32\n",
      "Data columns (total 2 columns):\n",
      " #   Column           Non-Null Count  Dtype  \n",
      "---  ------           --------------  -----  \n",
      " 0   YearsExperience  33 non-null     float64\n",
      " 1   Salary           33 non-null     int64  \n",
      "dtypes: float64(1), int64(1)\n",
      "memory usage: 656.0 bytes\n"
     ]
    }
   ],
   "source": [
    "df.info()"
   ]
  },
  {
   "cell_type": "code",
   "execution_count": null,
   "id": "e1279b4c-dafb-40a1-860b-00f4cebae75a",
   "metadata": {},
   "outputs": [],
   "source": []
  }
 ],
 "metadata": {
  "kernelspec": {
   "display_name": "Python 3 (ipykernel)",
   "language": "python",
   "name": "python3"
  },
  "language_info": {
   "codemirror_mode": {
    "name": "ipython",
    "version": 3
   },
   "file_extension": ".py",
   "mimetype": "text/x-python",
   "name": "python",
   "nbconvert_exporter": "python",
   "pygments_lexer": "ipython3",
   "version": "3.10.12"
  }
 },
 "nbformat": 4,
 "nbformat_minor": 5
}
